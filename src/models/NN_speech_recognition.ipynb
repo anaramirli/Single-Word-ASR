{
 "cells": [
  {
   "cell_type": "markdown",
   "metadata": {},
   "source": [
    "## Building NN for speech recogniton and optimize result "
   ]
  },
  {
   "cell_type": "code",
   "execution_count": 36,
   "metadata": {},
   "outputs": [],
   "source": [
    "import numpy as np\n",
    "import os\n",
    "from keras.models import load_model\n",
    "from keras.models import Sequential\n",
    "from keras.layers import Dropout\n",
    "from keras.layers import Dense\n",
    "from keras import optimizers\n",
    "from sklearn import preprocessing\n",
    "from sklearn.metrics import confusion_matrix\n",
    "from sklearn.preprocessing import StandardScaler\n",
    "from sklearn.neural_network import MLPClassifier\n",
    "%matplotlib inline\n",
    "import pandas as pd"
   ]
  },
  {
   "cell_type": "code",
   "execution_count": 37,
   "metadata": {},
   "outputs": [],
   "source": [
    "# our utils functions\n",
    "from src.utils import *\n",
    "\n",
    "# our classes\n",
    "from classes.PreprocessData import *\n",
    "from classes.EvaluateModel import *"
   ]
  },
  {
   "cell_type": "code",
   "execution_count": 58,
   "metadata": {},
   "outputs": [],
   "source": [
    "folder_name=\"NNs/mix2_no_norm\"\n",
    "model_name=\"model2\""
   ]
  },
  {
   "cell_type": "markdown",
   "metadata": {},
   "source": [
    "### Get data"
   ]
  },
  {
   "cell_type": "code",
   "execution_count": 59,
   "metadata": {},
   "outputs": [],
   "source": [
    "# read data\n",
    "train_df = pd.read_csv('data/data41mix+new_test_4.csv')\n",
    "test_df = pd.read_csv('data/mix+new_test_4/data41mix2_test.csv')"
   ]
  },
  {
   "cell_type": "markdown",
   "metadata": {},
   "source": [
    "### PREPROCESS DATA"
   ]
  },
  {
   "cell_type": "code",
   "execution_count": 60,
   "metadata": {},
   "outputs": [],
   "source": [
    "# initialize preprocess class\n",
    "preprocess = PreprocessData()"
   ]
  },
  {
   "cell_type": "code",
   "execution_count": 61,
   "metadata": {},
   "outputs": [],
   "source": [
    "# # split data, normalize, shuffle\n",
    "X_train, y_train = preprocess.preprocess_data(train_df, normalize=False)\n",
    "X_test, y_test = preprocess.preprocess_data(test_df, normalize=False)\n",
    "# scaler = preprocessing.StandardScaler().fit(X_train)\n",
    "# X_train=scaler.transform(X_train)\n",
    "# X_test=scaler.transform(X_test)"
   ]
  },
  {
   "cell_type": "code",
   "execution_count": 62,
   "metadata": {},
   "outputs": [
    {
     "name": "stdout",
     "output_type": "stream",
     "text": [
      "Size of training matrix: (34697, 2808)\n",
      "Size of testing matrix: (5205, 2808)\n"
     ]
    }
   ],
   "source": [
    "print('Size of training matrix:', X_train.shape)\n",
    "print('Size of testing matrix:', X_test.shape)"
   ]
  },
  {
   "cell_type": "code",
   "execution_count": 63,
   "metadata": {},
   "outputs": [
    {
     "name": "stdout",
     "output_type": "stream",
     "text": [
      "{0.0, 1.0, 2.0, 3.0, 4.0, 5.0, 6.0, 7.0, 8.0, 9.0, 10.0, 11.0, 12.0, 13.0, 14.0, 15.0, 16.0, 17.0, 18.0, 19.0, 20.0, 21.0, 22.0, 23.0, 24.0, 25.0, 26.0, 27.0, 28.0, 29.0, 30.0, 31.0, 32.0, 33.0, 34.0, 35.0, 36.0, 37.0, 38.0, 39.0, 40.0}\n"
     ]
    }
   ],
   "source": [
    "unique_words = set(y_train)\n",
    "print(unique_words)"
   ]
  },
  {
   "cell_type": "code",
   "execution_count": 64,
   "metadata": {},
   "outputs": [],
   "source": [
    "class_size = len(set(y_train))"
   ]
  },
  {
   "cell_type": "code",
   "execution_count": 65,
   "metadata": {},
   "outputs": [],
   "source": [
    "y_train = preprocess.categorize_y(y_train, class_size)\n",
    "y_test = preprocess.categorize_y(y_test, class_size)"
   ]
  },
  {
   "cell_type": "markdown",
   "metadata": {},
   "source": [
    "#### BUILD MODEL"
   ]
  },
  {
   "cell_type": "code",
   "execution_count": 66,
   "metadata": {},
   "outputs": [],
   "source": [
    "#get number of columns in training data\n",
    "n_cols = X_train.shape[1]"
   ]
  },
  {
   "cell_type": "code",
   "execution_count": 67,
   "metadata": {},
   "outputs": [],
   "source": [
    "model = Sequential()\n",
    "\n",
    "#add layers to model\n",
    "model.add(Dense(150, activation='relu', input_shape=(n_cols,)))\n",
    "model.add(Dense(150, activation='relu'))\n",
    "model.add(Dense(41, activation='softmax'))"
   ]
  },
  {
   "cell_type": "code",
   "execution_count": 68,
   "metadata": {},
   "outputs": [
    {
     "name": "stdout",
     "output_type": "stream",
     "text": [
      "_________________________________________________________________\n",
      "Layer (type)                 Output Shape              Param #   \n",
      "=================================================================\n",
      "dense_7 (Dense)              (None, 150)               421350    \n",
      "_________________________________________________________________\n",
      "dense_8 (Dense)              (None, 150)               22650     \n",
      "_________________________________________________________________\n",
      "dense_9 (Dense)              (None, 41)                6191      \n",
      "=================================================================\n",
      "Total params: 450,191\n",
      "Trainable params: 450,191\n",
      "Non-trainable params: 0\n",
      "_________________________________________________________________\n"
     ]
    }
   ],
   "source": [
    "model.summary()"
   ]
  },
  {
   "cell_type": "code",
   "execution_count": 69,
   "metadata": {},
   "outputs": [],
   "source": [
    "# compile model parameters\n",
    "model.compile(optimizer='Adadelta', loss='categorical_crossentropy', metrics=['accuracy'])"
   ]
  },
  {
   "cell_type": "code",
   "execution_count": 1,
   "metadata": {
    "scrolled": true
   },
   "outputs": [],
   "source": [
    "#train model\n",
    "history = model.fit(X_train, y_train, epochs=32, batch_size=32,  validation_split=0.15, verbose=0)"
   ]
  },
  {
   "cell_type": "code",
   "execution_count": null,
   "metadata": {},
   "outputs": [],
   "source": [
    "import matplotlib.pyplot as plt\n",
    "\n",
    "def plot_hist(history):\n",
    "    # Plot training & validation accuracy values\n",
    "    plt.plot(history.history['acc'])\n",
    "    plt.plot(history.history['val_acc'])\n",
    "    plt.title('Model accuracy')\n",
    "    plt.ylabel('Accuracy')\n",
    "    plt.xlabel('Epoch')\n",
    "    plt.legend(['Train', 'Test'], loc='upper left')\n",
    "    plt.show()\n",
    "\n",
    "    # Plot training & validation loss values\n",
    "    plt.plot(history.history['loss'])\n",
    "    plt.plot(history.history['val_loss'])\n",
    "    plt.title('Model loss')\n",
    "    plt.ylabel('Loss')\n",
    "    plt.xlabel('Epoch')\n",
    "    plt.legend(['Train', 'Test'], loc='upper left')\n",
    "    plt.show()"
   ]
  },
  {
   "cell_type": "code",
   "execution_count": 20,
   "metadata": {},
   "outputs": [
    {
     "data": {
      "image/png": "[encoded data removed]",
      "text/plain": [
       "<Figure size 432x288 with 1 Axes>"
      ]
     },
     "metadata": {},
     "output_type": "display_data"
    },
    {
     "data": {
      "image/png": "[encoded data removed]",
      "text/plain": [
       "<Figure size 432x288 with 1 Axes>"
      ]
     },
     "metadata": {},
     "output_type": "display_data"
    }
   ],
   "source": [
    "# relu / Adeleta\n",
    "plot_hist(history)"
   ]
  },
  {
   "cell_type": "markdown",
   "metadata": {},
   "source": [
    "#### SAVE MODEL"
   ]
  },
  {
   "cell_type": "code",
   "execution_count": 71,
   "metadata": {},
   "outputs": [],
   "source": [
    "# Creates a HDF5 file 'my_model.h5'\n",
    "model.save('models/{path}/{model}.h5'.format(path=folder_name,model=model_name))\n",
    "# Deletes the existing model\n",
    "del model"
   ]
  },
  {
   "cell_type": "markdown",
   "metadata": {},
   "source": [
    "### Evaluate model"
   ]
  },
  {
   "cell_type": "code",
   "execution_count": 72,
   "metadata": {},
   "outputs": [],
   "source": [
    "y_train2 = preprocess.uncategorize_y(y_train)\n",
    "y_test2 = preprocess.uncategorize_y(y_test)"
   ]
  },
  {
   "cell_type": "code",
   "execution_count": 73,
   "metadata": {},
   "outputs": [],
   "source": [
    "# initialize evaluate model\n",
    "evaluate = EvaluateModel(\"MixModel_NN\", \"sequential\", \"normal\", \"models/NNs/mix2_no_norm\", \"scaler_values.csv\",\"dict41.txt\", class_size=class_size)"
   ]
  },
  {
   "cell_type": "code",
   "execution_count": 74,
   "metadata": {},
   "outputs": [],
   "source": [
    "evaluate.y_train = preprocess.categorize_y(y_train2, evaluate.class_size)\n",
    "evaluate.y_test = preprocess.categorize_y(y_test2, evaluate.class_size)"
   ]
  },
  {
   "cell_type": "code",
   "execution_count": 75,
   "metadata": {},
   "outputs": [],
   "source": [
    "# get model\n",
    "models = evaluate.get_models()"
   ]
  },
  {
   "cell_type": "code",
   "execution_count": 2,
   "metadata": {},
   "outputs": [],
   "source": [
    "target = preprocess.uncategorize_y(evaluate.y_test)\n",
    "\n",
    "result, predicted_labels = evaluate.calculate_res(models, h1=0.9, h2=0.5, X=X_test, target=target)"
   ]
  },
  {
   "cell_type": "code",
   "execution_count": 3,
   "metadata": {},
   "outputs": [],
   "source": [
    "print(\"Accuracy: \" + str(np.mean(result)))"
   ]
  },
  {
   "cell_type": "markdown",
   "metadata": {},
   "source": [
    "### RESULT DATA RESULTS"
   ]
  },
  {
   "cell_type": "markdown",
   "metadata": {},
   "source": [
    "**Accuracy on unseen test data (mix model)**\n",
    "\n",
    "* Normal Accuracy: 99.10\n",
    "\n",
    "* Accuracy where (h1>=0.9): 98.38\n",
    "\n",
    "* Accuracy where (h1>=0.9 and h1-h2>=0.5): 98.38\n",
    "* Accuracy where (h1>=0.9 and h1-h2>=0.9): 98.10"
   ]
  },
  {
   "cell_type": "code",
   "execution_count": 128,
   "metadata": {},
   "outputs": [],
   "source": [
    "# Create the random grid\n",
    "param_grid = [\n",
    "    {      \n",
    "            'dense': [150, 200, 250, 275],\n",
    "            'activation': ['sigmoid', 'tanh','relu'],\n",
    "            'optimizer': ['adam','RMSprop','Adadelta']\n",
    "    }\n",
    "]\n",
    "\n",
    "param_combination = []\n",
    "para_label=['dense', 'activation', 'optimizer']\n",
    "\n",
    "# parameter list for storing all possible combinations\n",
    "param_list = []"
   ]
  },
  {
   "cell_type": "code",
   "execution_count": 129,
   "metadata": {},
   "outputs": [],
   "source": [
    "# create all possible parameters combinations for optimizations\n",
    "for n_dense in param_grid[0]['dense']:\n",
    "        for n_act in param_grid[0]['activation']:\n",
    "            for n_opt in param_grid[0]['optimizer']:\n",
    "                param_dict = dict(zip(para_label, [n_dense, n_act, n_opt]))\n",
    "                param_list.append(param_dict)"
   ]
  },
  {
   "cell_type": "code",
   "execution_count": 132,
   "metadata": {},
   "outputs": [],
   "source": [
    "# itereate throgh every parameter combination for every current word\n",
    "\n",
    "folder_name=\"NNs/mix2\"\n",
    "model_name=\"mix\"\n",
    "\n",
    "max_accuracy=0\n",
    "\n",
    "result_dict={}\n",
    "\n",
    "for param_i,_ in enumerate(param_list):\n",
    "    \n",
    "    model = Sequential()\n",
    "    \n",
    "    # paramas\n",
    "    dense_p = param_list[param_i]['dense']\n",
    "    activation_p = param_list[param_i]['activation']\n",
    "    optimizer_p = param_list[param_i]['optimizer']\n",
    "\n",
    "    #add layers to model\n",
    "    model.add(Dense(dense_p, activation=activation_p, input_shape=(n_cols,)))\n",
    "    model.add(Dense(dense_p, activation=activation_p))\n",
    "    model.add(Dense(41, activation='softmax'))\n",
    "    \n",
    "    # compile model parameters\n",
    "    model.compile(optimizer=optimizer_p, loss='categorical_crossentropy', metrics=['accuracy'])\n",
    "    \n",
    "    \n",
    "    #train model\n",
    "    model.fit(X_train, y_train, epochs=30, batch_size=30,validation_split=0.15, verbose=0)\n",
    "    # Creates a HDF5 file 'my_model.h5'\n",
    "    model.save('models/{path}/{model}.h5'.format(path=folder_name,model=model_name))\n",
    "    # Deletes the existing model\n",
    "    del model\n",
    "    \n",
    "    \n",
    "    y_train2 = preprocess.uncategorize_y(y_train)\n",
    "    y_test2 = preprocess.uncategorize_y(y_test)\n",
    "\n",
    "    # initialize evaluate model\n",
    "    evaluate = EvaluateModel(\"MixModel_NN\", \"normal\", \"models/NNs/mix2\", class_size=class_size)\n",
    "\n",
    "    evaluate.y_train = preprocess.categorize_y(y_train2, evaluate.class_size)\n",
    "    evaluate.y_test = preprocess.categorize_y(y_test2, evaluate.class_size)\n",
    "\n",
    "    # get model\n",
    "    models = evaluate.get_models()\n",
    "\n",
    "    target = preprocess.uncategorize_y(evaluate.y_test)\n",
    "    result, predicted_labels = evaluate.calculate_res(models, h1=0.9, h2=0.5, X_test=X_test, target=target)\n",
    "\n",
    "    accuracy = np.mean(result)\n",
    "    result_dict[accuracy]=param_list[param_i]"
   ]
  },
  {
   "cell_type": "code",
   "execution_count": 133,
   "metadata": {},
   "outputs": [
    {
     "data": {
      "text/plain": [
       "{0.9599390376660135: {'dense': 150,\n",
       "  'activation': 'sigmoid',\n",
       "  'optimizer': 'adam'},\n",
       " 0.9793163509688657: {'dense': 150, 'activation': 'relu', 'optimizer': 'adam'},\n",
       " 0.9629871543653385: {'dense': 150,\n",
       "  'activation': 'sigmoid',\n",
       "  'optimizer': 'Adadelta'},\n",
       " 0.9760505116481603: {'dense': 275, 'activation': 'relu', 'optimizer': 'adam'},\n",
       " 0.9827999129109515: {'dense': 275,\n",
       "  'activation': 'sigmoid',\n",
       "  'optimizer': 'RMSprop'},\n",
       " 0.973437840191596: {'dense': 150,\n",
       "  'activation': 'tanh',\n",
       "  'optimizer': 'Adadelta'},\n",
       " 0.978880905726105: {'dense': 150,\n",
       "  'activation': 'relu',\n",
       "  'optimizer': 'RMSprop'},\n",
       " 0.9808404093185282: {'dense': 200,\n",
       "  'activation': 'relu',\n",
       "  'optimizer': 'RMSprop'},\n",
       " 0.9804049640757675: {'dense': 200,\n",
       "  'activation': 'sigmoid',\n",
       "  'optimizer': 'RMSprop'},\n",
       " 0.969301110385369: {'dense': 200,\n",
       "  'activation': 'sigmoid',\n",
       "  'optimizer': 'Adadelta'},\n",
       " 0.9767036795123013: {'dense': 200, 'activation': 'tanh', 'optimizer': 'adam'},\n",
       " 0.9841062486392336: {'dense': 200,\n",
       "  'activation': 'tanh',\n",
       "  'optimizer': 'RMSprop'},\n",
       " 0.9756150664053995: {'dense': 250,\n",
       "  'activation': 'tanh',\n",
       "  'optimizer': 'Adadelta'},\n",
       " 0.9814935771826693: {'dense': 275,\n",
       "  'activation': 'sigmoid',\n",
       "  'optimizer': 'adam'},\n",
       " 0.98192902242543: {'dense': 200,\n",
       "  'activation': 'relu',\n",
       "  'optimizer': 'Adadelta'},\n",
       " 0.979534073590246: {'dense': 250,\n",
       "  'activation': 'sigmoid',\n",
       "  'optimizer': 'adam'},\n",
       " 0.9825821902895711: {'dense': 250,\n",
       "  'activation': 'sigmoid',\n",
       "  'optimizer': 'RMSprop'},\n",
       " 0.9671238841715655: {'dense': 250,\n",
       "  'activation': 'sigmoid',\n",
       "  'optimizer': 'Adadelta'},\n",
       " 0.9817112998040496: {'dense': 250, 'activation': 'tanh', 'optimizer': 'adam'},\n",
       " 0.9845416938819943: {'dense': 250,\n",
       "  'activation': 'tanh',\n",
       "  'optimizer': 'RMSprop'},\n",
       " 0.9743087306771173: {'dense': 250, 'activation': 'relu', 'optimizer': 'adam'},\n",
       " 0.9753973437840192: {'dense': 250,\n",
       "  'activation': 'relu',\n",
       "  'optimizer': 'RMSprop'},\n",
       " 0.987372087959939: {'dense': 250,\n",
       "  'activation': 'relu',\n",
       "  'optimizer': 'Adadelta'},\n",
       " 0.9690833877639887: {'dense': 275,\n",
       "  'activation': 'sigmoid',\n",
       "  'optimizer': 'Adadelta'},\n",
       " 0.9786631831047246: {'dense': 275, 'activation': 'tanh', 'optimizer': 'adam'},\n",
       " 0.9862834748530372: {'dense': 275,\n",
       "  'activation': 'tanh',\n",
       "  'optimizer': 'RMSprop'},\n",
       " 0.9775745699978228: {'dense': 275,\n",
       "  'activation': 'tanh',\n",
       "  'optimizer': 'Adadelta'},\n",
       " 0.9832353581537122: {'dense': 275,\n",
       "  'activation': 'relu',\n",
       "  'optimizer': 'RMSprop'},\n",
       " 0.9838885260178533: {'dense': 275,\n",
       "  'activation': 'relu',\n",
       "  'optimizer': 'Adadelta'}}"
      ]
     },
     "execution_count": 133,
     "metadata": {},
     "output_type": "execute_result"
    }
   ],
   "source": [
    "# optimization values\n",
    "result_dict"
   ]
  }
 ],
 "metadata": {
  "kernelspec": {
   "display_name": "Python 3",
   "language": "python",
   "name": "python3"
  },
  "language_info": {
   "codemirror_mode": {
    "name": "ipython",
    "version": 3
   },
   "file_extension": ".py",
   "mimetype": "text/x-python",
   "name": "python",
   "nbconvert_exporter": "python",
   "pygments_lexer": "ipython3",
   "version": "3.6.5"
  }
 },
 "nbformat": 4,
 "nbformat_minor": 2
}
