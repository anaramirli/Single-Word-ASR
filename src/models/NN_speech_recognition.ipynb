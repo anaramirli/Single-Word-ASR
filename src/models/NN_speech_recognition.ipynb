{
 "cells": [
  {
   "cell_type": "markdown",
   "metadata": {},
   "source": [
    "## Building NN for speech recogniton and optimize result "
   ]
  },
  {
   "cell_type": "code",
   "execution_count": 2,
   "metadata": {},
   "outputs": [],
   "source": [
    "import numpy as np\n",
    "import os\n",
    "from keras.models import load_model\n",
    "from keras.models import Sequential\n",
    "from keras.layers import Dropout\n",
    "from keras.layers import Dense\n",
    "from sklearn import preprocessing\n",
    "from sklearn.metrics import confusion_matrix\n",
    "from sklearn.preprocessing import StandardScaler\n",
    "from sklearn.neural_network import MLPClassifier\n",
    "%matplotlib inline\n",
    "import pandas as pd"
   ]
  },
  {
   "cell_type": "code",
   "execution_count": 37,
   "metadata": {},
   "outputs": [],
   "source": [
    "# our utils functions\n",
    "from src.utils import *\n",
    "\n",
    "# our classes\n",
    "from classes.PreprocessData import *\n",
    "from classes.EvaluateModel import *"
   ]
  },
  {
   "cell_type": "code",
   "execution_count": 5,
   "metadata": {},
   "outputs": [],
   "source": [
    "folder_name=\"NNs/mix\"\n",
    "model_name=\"mix\""
   ]
  },
  {
   "cell_type": "markdown",
   "metadata": {},
   "source": [
    "### Get data"
   ]
  },
  {
   "cell_type": "code",
   "execution_count": 6,
   "metadata": {},
   "outputs": [],
   "source": [
    "# read data\n",
    "train_df = pd.read_csv('data/mix/data41mix_train.csv')\n",
    "test_df = pd.read_csv('data/mix/data41mix_test.csv')"
   ]
  },
  {
   "cell_type": "markdown",
   "metadata": {},
   "source": [
    "### PREPROCESS DATA"
   ]
  },
  {
   "cell_type": "code",
   "execution_count": 7,
   "metadata": {},
   "outputs": [],
   "source": [
    "# initialize preprocess class\n",
    "preprocess = PreprocessData()"
   ]
  },
  {
   "cell_type": "code",
   "execution_count": 8,
   "metadata": {},
   "outputs": [],
   "source": [
    "# split data, normalize, shuffle\n",
    "X_train, y_train = preprocess.preprocess_data(train_df)\n",
    "X_test, y_test = preprocess.preprocess_data(test_df)"
   ]
  },
  {
   "cell_type": "code",
   "execution_count": 9,
   "metadata": {},
   "outputs": [
    {
     "name": "stdout",
     "output_type": "stream",
     "text": [
      "Size of training matrix: (26027, 2808)\n",
      "Size of testing matrix: (4593, 2808)\n"
     ]
    }
   ],
   "source": [
    "print('Size of training matrix:', X_train.shape)\n",
    "print('Size of testing matrix:', X_test.shape)"
   ]
  },
  {
   "cell_type": "code",
   "execution_count": 10,
   "metadata": {},
   "outputs": [
    {
     "name": "stdout",
     "output_type": "stream",
     "text": [
      "{0.0, 1.0, 2.0, 3.0, 4.0, 5.0, 6.0, 7.0, 8.0, 9.0, 10.0, 11.0, 12.0, 13.0, 14.0, 15.0, 16.0, 17.0, 18.0, 19.0, 20.0, 21.0, 22.0, 23.0, 24.0, 25.0, 26.0, 27.0, 28.0, 29.0, 30.0, 31.0, 32.0, 33.0, 34.0, 35.0, 36.0, 37.0, 38.0, 39.0, 40.0}\n"
     ]
    }
   ],
   "source": [
    "unique_words = set(y_train)\n",
    "print(unique_words)"
   ]
  },
  {
   "cell_type": "code",
   "execution_count": 11,
   "metadata": {},
   "outputs": [],
   "source": [
    "class_size = len(set(y_train))"
   ]
  },
  {
   "cell_type": "code",
   "execution_count": 12,
   "metadata": {},
   "outputs": [],
   "source": [
    "y_train = preprocess.categorize_y(y_train, class_size)\n",
    "y_test = preprocess.categorize_y(y_test, class_size)"
   ]
  },
  {
   "cell_type": "markdown",
   "metadata": {},
   "source": [
    "#### BUILD MODEL"
   ]
  },
  {
   "cell_type": "code",
   "execution_count": 13,
   "metadata": {},
   "outputs": [],
   "source": [
    "#get number of columns in training data\n",
    "n_cols = X_train.shape[1]"
   ]
  },
  {
   "cell_type": "code",
   "execution_count": 14,
   "metadata": {},
   "outputs": [],
   "source": [
    "model = Sequential()\n",
    "\n",
    "#add layers to model\n",
    "model.add(Dense(200, activation='sigmoid', input_shape=(n_cols,)))\n",
    "model.add(Dense(200, activation='sigmoid'))\n",
    "model.add(Dense(41, activation='softmax'))"
   ]
  },
  {
   "cell_type": "code",
   "execution_count": 15,
   "metadata": {},
   "outputs": [
    {
     "name": "stdout",
     "output_type": "stream",
     "text": [
      "_________________________________________________________________\n",
      "Layer (type)                 Output Shape              Param #   \n",
      "=================================================================\n",
      "dense_1 (Dense)              (None, 200)               561800    \n",
      "_________________________________________________________________\n",
      "dense_2 (Dense)              (None, 200)               40200     \n",
      "_________________________________________________________________\n",
      "dense_3 (Dense)              (None, 41)                8241      \n",
      "=================================================================\n",
      "Total params: 610,241\n",
      "Trainable params: 610,241\n",
      "Non-trainable params: 0\n",
      "_________________________________________________________________\n"
     ]
    }
   ],
   "source": [
    "model.summary()"
   ]
  },
  {
   "cell_type": "code",
   "execution_count": 16,
   "metadata": {},
   "outputs": [],
   "source": [
    "# compile model parameters\n",
    "model.compile(optimizer='adam', loss='categorical_crossentropy', metrics=['accuracy'])"
   ]
  },
  {
   "cell_type": "code",
   "execution_count": 17,
   "metadata": {
    "scrolled": true
   },
   "outputs": [
    {
     "name": "stdout",
     "output_type": "stream",
     "text": [
      "Train on 20821 samples, validate on 5206 samples\n",
      "Epoch 1/50\n",
      "20821/20821 [==============================] - 92s 4ms/step - loss: 0.8065 - acc: 0.8697 - val_loss: 0.1771 - val_acc: 0.9672\n",
      "Epoch 2/50\n",
      "20821/20821 [==============================] - 18s 842us/step - loss: 0.0972 - acc: 0.9845 - val_loss: 0.0995 - val_acc: 0.9779\n",
      "Epoch 3/50\n",
      "20821/20821 [==============================] - 22s 1ms/step - loss: 0.0368 - acc: 0.9955 - val_loss: 0.0715 - val_acc: 0.9835\n",
      "Epoch 4/50\n",
      "20821/20821 [==============================] - 25s 1ms/step - loss: 0.0154 - acc: 0.9984 - val_loss: 0.0632 - val_acc: 0.9844\n",
      "Epoch 5/50\n",
      "20821/20821 [==============================] - 25s 1ms/step - loss: 0.0072 - acc: 0.9994 - val_loss: 0.0582 - val_acc: 0.9848\n",
      "Epoch 6/50\n",
      "20821/20821 [==============================] - 17s 836us/step - loss: 0.0036 - acc: 0.9997 - val_loss: 0.0561 - val_acc: 0.9850\n",
      "Epoch 7/50\n",
      "20821/20821 [==============================] - 19s 894us/step - loss: 0.0023 - acc: 0.9997 - val_loss: 0.0654 - val_acc: 0.9827\n",
      "Epoch 8/50\n",
      "20821/20821 [==============================] - 21s 1ms/step - loss: 0.0255 - acc: 0.9930 - val_loss: 0.0911 - val_acc: 0.9762\n",
      "Epoch 9/50\n",
      "20821/20821 [==============================] - 19s 925us/step - loss: 0.0083 - acc: 0.9986 - val_loss: 0.0731 - val_acc: 0.9814- ac - ETA: 0s - loss: 0.0\n",
      "Epoch 10/50\n",
      "20821/20821 [==============================] - 18s 884us/step - loss: 0.0020 - acc: 0.9998 - val_loss: 0.0653 - val_acc: 0.9844\n",
      "Epoch 11/50\n",
      "20821/20821 [==============================] - 16s 773us/step - loss: 0.0011 - acc: 0.9999 - val_loss: 0.0775 - val_acc: 0.9802\n",
      "Epoch 12/50\n",
      "20821/20821 [==============================] - 19s 895us/step - loss: 7.6549e-04 - acc: 0.9999 - val_loss: 0.0629 - val_acc: 0.9856\n",
      "Epoch 13/50\n",
      "20821/20821 [==============================] - 18s 851us/step - loss: 2.5165e-04 - acc: 1.0000 - val_loss: 0.0627 - val_acc: 0.9860\n",
      "Epoch 14/50\n",
      "20821/20821 [==============================] - 16s 782us/step - loss: 1.7988e-04 - acc: 1.0000 - val_loss: 0.0631 - val_acc: 0.9862\n",
      "Epoch 15/50\n",
      "20821/20821 [==============================] - 17s 835us/step - loss: 0.0189 - acc: 0.9937 - val_loss: 0.1057 - val_acc: 0.9716\n",
      "Epoch 16/50\n",
      "20821/20821 [==============================] - 21s 1ms/step - loss: 0.0104 - acc: 0.9975 - val_loss: 0.0766 - val_acc: 0.9806\n",
      "Epoch 17/50\n",
      "20821/20821 [==============================] - 18s 886us/step - loss: 0.0017 - acc: 0.9997 - val_loss: 0.0695 - val_acc: 0.9825\n",
      "Epoch 18/50\n",
      "20821/20821 [==============================] - 19s 897us/step - loss: 3.4944e-04 - acc: 1.0000 - val_loss: 0.0671 - val_acc: 0.9837\n",
      "Epoch 19/50\n",
      "20821/20821 [==============================] - 17s 834us/step - loss: 2.0740e-04 - acc: 1.0000 - val_loss: 0.0668 - val_acc: 0.9837\n",
      "Epoch 20/50\n",
      "20821/20821 [==============================] - 16s 772us/step - loss: 1.4303e-04 - acc: 1.0000 - val_loss: 0.0665 - val_acc: 0.9841\n",
      "Epoch 21/50\n",
      "20821/20821 [==============================] - 17s 813us/step - loss: 1.0049e-04 - acc: 1.0000 - val_loss: 0.0665 - val_acc: 0.9844\n",
      "Epoch 22/50\n",
      "20821/20821 [==============================] - 17s 795us/step - loss: 7.0653e-05 - acc: 1.0000 - val_loss: 0.0664 - val_acc: 0.9854\n",
      "Epoch 23/50\n",
      "20821/20821 [==============================] - 17s 799us/step - loss: 4.7054e-05 - acc: 1.0000 - val_loss: 0.0663 - val_acc: 0.9852\n",
      "Epoch 24/50\n",
      "20821/20821 [==============================] - 16s 789us/step - loss: 3.0786e-05 - acc: 1.0000 - val_loss: 0.0670 - val_acc: 0.9858\n",
      "Epoch 25/50\n",
      "20821/20821 [==============================] - 22s 1ms/step - loss: 1.9552e-05 - acc: 1.0000 - val_loss: 0.0677 - val_acc: 0.9862\n",
      "Epoch 26/50\n",
      "20821/20821 [==============================] - 21s 1ms/step - loss: 1.2434e-05 - acc: 1.0000 - val_loss: 0.0682 - val_acc: 0.9858\n",
      "Epoch 27/50\n",
      "20821/20821 [==============================] - 22s 1ms/step - loss: 8.3469e-06 - acc: 1.0000 - val_loss: 0.0703 - val_acc: 0.9856\n",
      "Epoch 28/50\n",
      "20821/20821 [==============================] - 27s 1ms/step - loss: 4.9244e-06 - acc: 1.0000 - val_loss: 0.0725 - val_acc: 0.9864\n",
      "Epoch 29/50\n",
      "20821/20821 [==============================] - 25s 1ms/step - loss: 3.0393e-06 - acc: 1.0000 - val_loss: 0.0719 - val_acc: 0.9862\n",
      "Epoch 30/50\n",
      "20821/20821 [==============================] - 27s 1ms/step - loss: 2.1181e-06 - acc: 1.0000 - val_loss: 0.0728 - val_acc: 0.9864\n",
      "Epoch 31/50\n",
      "20821/20821 [==============================] - 26s 1ms/step - loss: 0.0112 - acc: 0.9967 - val_loss: 0.1454 - val_acc: 0.9654\n",
      "Epoch 32/50\n",
      "20821/20821 [==============================] - 24s 1ms/step - loss: 0.0136 - acc: 0.9956 - val_loss: 0.1013 - val_acc: 0.9775\n",
      "Epoch 33/50\n",
      "20821/20821 [==============================] - 22s 1ms/step - loss: 0.0012 - acc: 0.9997 - val_loss: 0.0969 - val_acc: 0.9791s - loss: 0.0012 - acc:\n",
      "Epoch 34/50\n",
      "20821/20821 [==============================] - 25s 1ms/step - loss: 2.2092e-04 - acc: 1.0000 - val_loss: 0.0949 - val_acc: 0.9800\n",
      "Epoch 35/50\n",
      "20821/20821 [==============================] - 24s 1ms/step - loss: 7.9765e-05 - acc: 1.0000 - val_loss: 0.0938 - val_acc: 0.9806\n",
      "Epoch 36/50\n",
      "20821/20821 [==============================] - 24s 1ms/step - loss: 5.4286e-05 - acc: 1.0000 - val_loss: 0.0933 - val_acc: 0.9808\n",
      "Epoch 37/50\n",
      "20821/20821 [==============================] - 23s 1ms/step - loss: 3.8311e-05 - acc: 1.0000 - val_loss: 0.0930 - val_acc: 0.9812\n",
      "Epoch 38/50\n",
      "20821/20821 [==============================] - 25s 1ms/step - loss: 2.6929e-05 - acc: 1.0000 - val_loss: 0.0926 - val_acc: 0.9814\n",
      "Epoch 39/50\n",
      "20821/20821 [==============================] - 24s 1ms/step - loss: 1.8767e-05 - acc: 1.0000 - val_loss: 0.0918 - val_acc: 0.9825\n",
      "Epoch 40/50\n",
      "20821/20821 [==============================] - 23s 1ms/step - loss: 1.3131e-05 - acc: 1.0000 - val_loss: 0.0916 - val_acc: 0.9821\n",
      "Epoch 41/50\n",
      "20821/20821 [==============================] - 28s 1ms/step - loss: 8.9559e-06 - acc: 1.0000 - val_loss: 0.0916 - val_acc: 0.9831\n",
      "Epoch 42/50\n",
      "20821/20821 [==============================] - 36s 2ms/step - loss: 6.1390e-06 - acc: 1.0000 - val_loss: 0.0906 - val_acc: 0.9833\n",
      "Epoch 43/50\n",
      "20821/20821 [==============================] - 31s 1ms/step - loss: 4.1500e-06 - acc: 1.0000 - val_loss: 0.0906 - val_acc: 0.9835\n",
      "Epoch 44/50\n",
      "20821/20821 [==============================] - 20s 976us/step - loss: 2.8104e-06 - acc: 1.0000 - val_loss: 0.0905 - val_acc: 0.9839\n",
      "Epoch 45/50\n",
      "20821/20821 [==============================] - 16s 770us/step - loss: 1.8848e-06 - acc: 1.0000 - val_loss: 0.0914 - val_acc: 0.9839\n",
      "Epoch 46/50\n",
      "20821/20821 [==============================] - 17s 799us/step - loss: 1.2727e-06 - acc: 1.0000 - val_loss: 0.0919 - val_acc: 0.9839\n",
      "Epoch 47/50\n",
      "20821/20821 [==============================] - 17s 813us/step - loss: 8.7709e-07 - acc: 1.0000 - val_loss: 0.0924 - val_acc: 0.9835\n",
      "Epoch 48/50\n",
      "20821/20821 [==============================] - 16s 781us/step - loss: 6.0947e-07 - acc: 1.0000 - val_loss: 0.0930 - val_acc: 0.9839\n",
      "Epoch 49/50\n",
      "20821/20821 [==============================] - 17s 818us/step - loss: 4.3356e-07 - acc: 1.0000 - val_loss: 0.0935 - val_acc: 0.9839\n",
      "Epoch 50/50\n",
      "20821/20821 [==============================] - 17s 809us/step - loss: 3.2561e-07 - acc: 1.0000 - val_loss: 0.0955 - val_acc: 0.9839\n"
     ]
    },
    {
     "data": {
      "text/plain": [
       "<keras.callbacks.History at 0x2126ccbeda0>"
      ]
     },
     "execution_count": 17,
     "metadata": {},
     "output_type": "execute_result"
    }
   ],
   "source": [
    "#train model\n",
    "model.fit(X_train, y_train, epochs=50, batch_size=20,validation_split=0.2)"
   ]
  },
  {
   "cell_type": "markdown",
   "metadata": {},
   "source": [
    "#### SAVE MODEL"
   ]
  },
  {
   "cell_type": "code",
   "execution_count": 18,
   "metadata": {},
   "outputs": [],
   "source": [
    "# Creates a HDF5 file 'my_model.h5'\n",
    "model.save('models/{path}/{model}.h5'.format(path=folder_name,model=model_name))\n",
    "# Deletes the existing model\n",
    "del model"
   ]
  },
  {
   "cell_type": "markdown",
   "metadata": {},
   "source": [
    "### Evaluate model"
   ]
  },
  {
   "cell_type": "code",
   "execution_count": 19,
   "metadata": {},
   "outputs": [],
   "source": [
    "y_train = preprocess.uncategorize_y(y_train)\n",
    "y_test = preprocess.uncategorize_y(y_test)"
   ]
  },
  {
   "cell_type": "code",
   "execution_count": 21,
   "metadata": {},
   "outputs": [],
   "source": [
    "# initialize evaluate model\n",
    "evaluate = EvaluateModel(\"MixModel_NN\", \"normal\", \"models/NNs/mix\", class_size=class_size)"
   ]
  },
  {
   "cell_type": "code",
   "execution_count": 22,
   "metadata": {},
   "outputs": [],
   "source": [
    "evaluate.y_train = preprocess.categorize_y(y_train, evaluate.class_size)\n",
    "evaluate.y_test = preprocess.categorize_y(y_test, evaluate.class_size)"
   ]
  },
  {
   "cell_type": "code",
   "execution_count": 23,
   "metadata": {},
   "outputs": [],
   "source": [
    "# get model\n",
    "models = evaluate.get_models()"
   ]
  },
  {
   "cell_type": "code",
   "execution_count": 24,
   "metadata": {},
   "outputs": [],
   "source": [
    "target = preprocess.uncategorize_y(evaluate.y_test)\n",
    "\n",
    "result, predicted_labels = evaluate.calculate_res(models, h1=0.9, h2=0.5, X_test=X_test, target=target)"
   ]
  },
  {
   "cell_type": "code",
   "execution_count": 25,
   "metadata": {},
   "outputs": [
    {
     "name": "stdout",
     "output_type": "stream",
     "text": [
      "Accuracy: 0.9762682342695406\n"
     ]
    }
   ],
   "source": [
    "print(\"Accuracy: \" + str(np.mean(result)))"
   ]
  },
  {
   "cell_type": "markdown",
   "metadata": {},
   "source": [
    "**Accuracy on unseen test data (mix model)**\n",
    "\n",
    "* Normal Accuracy: 98.62\n",
    "\n",
    "* Accuracy where (h1>=0.9): 97.69\n",
    "\n",
    "* Accuracy where (h1>=0.9 and h1-h2>=0.5): 97.62"
   ]
  }
 ],
 "metadata": {
  "kernelspec": {
   "display_name": "Python 3",
   "language": "python",
   "name": "python3"
  },
  "language_info": {
   "codemirror_mode": {
    "name": "ipython",
    "version": 3
   },
   "file_extension": ".py",
   "mimetype": "text/x-python",
   "name": "python",
   "nbconvert_exporter": "python",
   "pygments_lexer": "ipython3",
   "version": "3.6.5"
  }
 },
 "nbformat": 4,
 "nbformat_minor": 2
}
