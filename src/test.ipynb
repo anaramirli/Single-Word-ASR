{
 "cells": [
  {
   "cell_type": "code",
   "execution_count": 3,
   "metadata": {},
   "outputs": [],
   "source": [
    "# our utils functions\n",
    "from utils import *\n",
    "\n",
    "# our classes\n",
    "from PreprocessData import *\n",
    "from EvaluateModel import *\n",
    "from ModelTest import *"
   ]
  },
  {
   "cell_type": "code",
   "execution_count": 4,
   "metadata": {},
   "outputs": [],
   "source": [
    "import numpy as np\n",
    "import os\n",
    "import pandas as pd\n",
    "import json\n",
    "from scipy.io import wavfile\n",
    "from python_speech_features import mfcc, logfbank\n",
    "from sklearn.preprocessing import StandardScaler\n",
    "\n",
    "import matplotlib.pyplot as plt\n",
    "\n",
    "from EvaluateModel import *\n",
    "from ModelTest import * \n",
    "\n",
    "\n",
    "model_grid = [\n",
    "    {      \n",
    "            'model_name': \"NNs\",\n",
    "            'model_type': \"normal\",\n",
    "            'model_dir': \"models/NNs/mix\"\n",
    "    },\n",
    "    \n",
    "    {      \n",
    "            'model_name': \"1_all_NNs\",\n",
    "            'model_type': \"onevsall\",\n",
    "            'model_dir': \"models/1_all_NNs/mix\"\n",
    "    },\n",
    "    \n",
    "    {      \n",
    "            'model_name': \"HMMs\",\n",
    "            'model_type': \"onevsall\",\n",
    "            'model_dir': \"models/HMMs/mix\"\n",
    "    }\n",
    "\n",
    "]"
   ]
  },
  {
   "cell_type": "code",
   "execution_count": 5,
   "metadata": {},
   "outputs": [
    {
     "name": "stdout",
     "output_type": "stream",
     "text": [
      "NNs\n",
      "1_all_NNs\n",
      "HMMs\n"
     ]
    }
   ],
   "source": [
    "test_path='data/mix/data41mix_test.csv'\n",
    "model_test = ModelTest(dict_path='dict41.txt', model_grid=model_grid, test_path=test_path, class_size=41)\n",
    "\n",
    "model_test.init_models()"
   ]
  },
  {
   "cell_type": "code",
   "execution_count": 6,
   "metadata": {},
   "outputs": [
    {
     "data": {
      "text/plain": [
       "'2_two'"
      ]
     },
     "execution_count": 6,
     "metadata": {},
     "output_type": "execute_result"
    }
   ],
   "source": [
    "model_test.get_model_result('two_2chunk-07.wav', \"HMMs\")"
   ]
  },
  {
   "cell_type": "code",
   "execution_count": 8,
   "metadata": {},
   "outputs": [
    {
     "data": {
      "text/plain": [
       "'2_two'"
      ]
     },
     "execution_count": 8,
     "metadata": {},
     "output_type": "execute_result"
    }
   ],
   "source": [
    "model_test.get_model_result('two_2chunk-07.wav', \"1_all_NNs\")"
   ]
  },
  {
   "cell_type": "code",
   "execution_count": 9,
   "metadata": {},
   "outputs": [
    {
     "data": {
      "text/plain": [
       "'2_two'"
      ]
     },
     "execution_count": 9,
     "metadata": {},
     "output_type": "execute_result"
    }
   ],
   "source": [
    "model_test.get_model_result('two_2chunk-07.wav', \"NNs\")"
   ]
  }
 ],
 "metadata": {
  "kernelspec": {
   "display_name": "Python 3",
   "language": "python",
   "name": "python3"
  },
  "language_info": {
   "codemirror_mode": {
    "name": "ipython",
    "version": 3
   },
   "file_extension": ".py",
   "mimetype": "text/x-python",
   "name": "python",
   "nbconvert_exporter": "python",
   "pygments_lexer": "ipython3",
   "version": "3.6.5"
  }
 },
 "nbformat": 4,
 "nbformat_minor": 2
}
