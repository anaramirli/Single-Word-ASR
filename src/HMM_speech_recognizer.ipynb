{
 "cells": [
  {
   "cell_type": "markdown",
   "metadata": {},
   "source": [
    "## Building Hidden Markov Models (*HMMs*) for speech recognition\n",
    "\n",
    "We'll use *Gaussian HMMs* to model our data. *HMMs* are great tool for modeling time series data. As an audio signa is a time series signal, so the *HMMs* fit our needs. \n",
    "\n",
    "*HMMs* are popular because they can be trained automatically and are simple and computationally feasible to use. A *HMM* represent probability distrubutions over sequencs of observations.\n",
    "\n",
    "In this document we use **hmmlearn** package built with Sphinx and **python_speech features** built for MFCC.\n",
    "\n",
    "We need train data to build our speech recognizer. Our data set contains 41 different words, where each word has many audio files associated with it. We'll build an *HMM* model for each class by training our model on given dataset. Then after build model, given new input file, we need to run all the models on this file and pick the one with the best score."
   ]
  },
  {
   "cell_type": "code",
   "execution_count": 1,
   "metadata": {},
   "outputs": [],
   "source": [
    "import numpy as np\n",
    "import os\n",
    "\n",
    "from python_speech_features import mfcc, logfbank\n",
    "import matplotlib.pyplot as plt\n",
    "import pickle\n",
    "from hmmlearn import hmm\n",
    "from sklearn.metrics import confusion_matrix\n",
    "from sklearn.preprocessing import StandardScaler\n",
    "%matplotlib inline\n",
    "\n",
    "from utils import *"
   ]
  },
  {
   "cell_type": "code",
   "execution_count": 2,
   "metadata": {},
   "outputs": [],
   "source": [
    "fpaths = []\n",
    "labels = []"
   ]
  },
  {
   "cell_type": "code",
   "execution_count": 3,
   "metadata": {},
   "outputs": [],
   "source": [
    "word_spoken = []\n",
    "for dataset in ['ADA','']:\n",
    "    dataset = '41{}'.format(dataset)\n",
    "    input_folder = '..\\data\\{}'.format(dataset)\n",
    "\n",
    "    # pars the input directory that contains audio files\n",
    "    # get audio files and their lables\n",
    "\n",
    "    for f in os.listdir(input_folder):\n",
    "        for w in os.listdir(input_folder+'\\\\'+ f):\n",
    "            # check wheter files is wav or not\n",
    "\n",
    "            if (w.find('wav')!=-1):\n",
    "                fpaths.append(input_folder+'\\\\'+f+'\\\\'+w)\n",
    "                labels.append(f)\n",
    "                if f not in word_spoken:\n",
    "                    word_spoken.append(f)"
   ]
  },
  {
   "cell_type": "code",
   "execution_count": 4,
   "metadata": {},
   "outputs": [
    {
     "name": "stdout",
     "output_type": "stream",
     "text": [
      "30620\n"
     ]
    }
   ],
   "source": [
    "# size of dataset\n",
    "print(len(labels))"
   ]
  },
  {
   "cell_type": "code",
   "execution_count": 5,
   "metadata": {},
   "outputs": [
    {
     "data": {
      "text/plain": [
       "['0_zero',\n",
       " '1_one',\n",
       " '2_two',\n",
       " '3_three',\n",
       " '4_four',\n",
       " '5_five',\n",
       " '6_six',\n",
       " '7_seven',\n",
       " '8_eight',\n",
       " '9_nine',\n",
       " 'A_C Documents',\n",
       " 'All switches',\n",
       " 'Alternate air door',\n",
       " 'Battery+Main bus',\n",
       " 'Cabin doors',\n",
       " 'Checked',\n",
       " 'Circuit breakers',\n",
       " 'Closed',\n",
       " 'Cockpit',\n",
       " 'Cockpit checklist completed',\n",
       " 'Completed',\n",
       " 'Decimal',\n",
       " 'Flight Controls',\n",
       " 'Fuel Quantity',\n",
       " 'Fuel Selector',\n",
       " 'Fuel Shutoff Valve',\n",
       " 'Fuel Temperature',\n",
       " 'On',\n",
       " 'Seats & Belts',\n",
       " 'Shut-off cabin heat',\n",
       " 'Towbar',\n",
       " 'Weight and balance',\n",
       " 'aboard',\n",
       " 'adjusted & locked',\n",
       " 'in',\n",
       " 'locked',\n",
       " 'off',\n",
       " 'open',\n",
       " 'preflight inspection',\n",
       " 'removed',\n",
       " 'sufficient']"
      ]
     },
     "execution_count": 5,
     "metadata": {},
     "output_type": "execute_result"
    }
   ],
   "source": [
    "label_set=list(set(labels))\n",
    "label_set.sort()\n",
    "label_set"
   ]
  },
  {
   "cell_type": "markdown",
   "metadata": {},
   "source": [
    "## Extracting frequeny domain features\n",
    "\n",
    "At the second stage we convet a signal into the freqency domain. In monst modern speech recognitoon freqeency-domain features are used as key component. In case of multispeakers MFFC feature extraction works best. After convert a signal into a freq domain, it's requered to convert it into a useable form. **Mel Frequency Cepstral Coefficients (MFCC)** is a good way to do that. *MFCC* takes the power spectrum of a signal and then uses a combination of filter banks and disrete cosinetransform to extract pattern of phones or features.\n",
    "\n",
    "After extracting **MFFC** features we exract data into single data matrix, and a label vector with the correct label for eac data file is ceated. "
   ]
  },
  {
   "cell_type": "code",
   "execution_count": 6,
   "metadata": {},
   "outputs": [],
   "source": [
    "from scipy.io import wavfile\n",
    "\n",
    "data = []\n",
    "\n",
    "# first file desitination name and index\n",
    "file_name = '';\n",
    "word_spoken_index = 0;\n",
    "\n",
    "for n,file in enumerate(fpaths):\n",
    "\n",
    "    # read file \n",
    "    sampling_freq, audio = wavfile.read(file)\n",
    "    # Extract MFCC features\n",
    "    mfcc_features = mfcc(audio, sampling_freq)\n",
    "    data.insert(n,mfcc_features)"
   ]
  },
  {
   "cell_type": "code",
   "execution_count": 7,
   "metadata": {},
   "outputs": [
    {
     "data": {
      "text/plain": [
       "30620"
      ]
     },
     "execution_count": 7,
     "metadata": {},
     "output_type": "execute_result"
    }
   ],
   "source": [
    "len(data)"
   ]
  },
  {
   "cell_type": "code",
   "execution_count": 8,
   "metadata": {},
   "outputs": [
    {
     "name": "stdout",
     "output_type": "stream",
     "text": [
      "(65, 13)\n"
     ]
    },
    {
     "data": {
      "image/png": "[encoded data removed]",
      "text/plain": [
       "<Figure size 1152x230.4 with 1 Axes>"
      ]
     },
     "metadata": {},
     "output_type": "display_data"
    }
   ],
   "source": [
    "# plot hte MFCC features\n",
    "\n",
    "mfcc_features = data[1]\n",
    "print(mfcc_features.shape)\n",
    "\n",
    "plt.matshow(mfcc_features.T)\n",
    "plt.title('MFCC')\n",
    "plt.show()"
   ]
  },
  {
   "cell_type": "code",
   "execution_count": 9,
   "metadata": {},
   "outputs": [
    {
     "name": "stdout",
     "output_type": "stream",
     "text": [
      "Number of files total: 30620\n",
      "Labels and label indices [ 0.  0.  0. ... 31. 31. 31.]\n"
     ]
    }
   ],
   "source": [
    "# label datas\n",
    "print('Number of files total:', len(data))\n",
    "all_labels = np.zeros(len(data))\n",
    "for n, l in enumerate(label_set):\n",
    "    all_labels[np.array([i for i, _ in enumerate(labels) if _ == l])] = n\n",
    "    \n",
    "print('Labels and label indices', all_labels)"
   ]
  },
  {
   "cell_type": "code",
   "execution_count": 10,
   "metadata": {},
   "outputs": [
    {
     "name": "stdout",
     "output_type": "stream",
     "text": [
      "{0.0, 1.0, 2.0, 3.0, 4.0, 5.0, 6.0, 7.0, 8.0, 9.0, 10.0, 11.0, 12.0, 13.0, 14.0, 15.0, 16.0, 17.0, 18.0, 19.0, 20.0, 21.0, 22.0, 23.0, 24.0, 25.0, 26.0, 27.0, 28.0, 29.0, 30.0, 31.0, 32.0, 33.0, 34.0, 35.0, 36.0, 37.0, 38.0, 39.0, 40.0}\n"
     ]
    }
   ],
   "source": [
    "# get unique labesl\n",
    "unique_words = set(all_labels)\n",
    "print(unique_words)"
   ]
  },
  {
   "cell_type": "markdown",
   "metadata": {},
   "source": [
    "## MHH Trainer Class"
   ]
  },
  {
   "cell_type": "code",
   "execution_count": 11,
   "metadata": {},
   "outputs": [],
   "source": [
    "# class to handle HMM processing\n",
    "class HMMTrainer(object):  \n",
    "    '''\n",
    "    Parameters\n",
    "    ----------\n",
    "    \n",
    "    n_components: parameter defines the number of hidden states\n",
    "    covariance_type: defines the type of covariance in transition matrix\n",
    "    n_iter: indicates the number of iterations for traning\n",
    "    algorithm: decoder algorithm\n",
    "    \n",
    "    choice of parameters depends on the data. \n",
    "    '''\n",
    "    def __init__(self, model_path, model_name='GaussianHMM', algorithm='viterbi', n_components=12, covariance_type=\"diag\",\n",
    "                 init_params=\"cmts\", params=\"cmts\", n_iter=1000):\n",
    "        \n",
    "        # initialize\n",
    "        self.model_name = model_name\n",
    "        self.algorithm= algorithm\n",
    "        self.n_components = n_components\n",
    "        self.covariance_type = covariance_type\n",
    "        self.init_params = init_params\n",
    "        self.params = params\n",
    "        self.n_iter = n_iter\n",
    "        self.model_path = model_path\n",
    "       \n",
    "\n",
    "        # define model\n",
    "        if self.model_name == 'GaussianHMM':\n",
    "            self.model = hmm.GaussianHMM(algorithm=self.algorithm,\n",
    "                                        n_components=self.n_components,\n",
    "                                        covariance_type=self.covariance_type,\n",
    "                                        init_params=self.init_params, \n",
    "                                        params=self.params,\n",
    "                                        n_iter=self.n_iter)\n",
    "        else:\n",
    "            raise TypeError('Invalid model type')\n",
    "            \n",
    "            \n",
    "        if not os.path.isdir(model_path):\n",
    "            raise TypeError(\"Path does not exists\")\n",
    "            \n",
    "            \n",
    "    # train data is 2D aray, where each frow is k-dimensions\n",
    "    def train(self, X, lengths):\n",
    "        # ingonre divisin by 0\n",
    "        np.seterr(all='ignore')\n",
    "        self.model.fit(X, lengths)\n",
    "        \n",
    "    # run the model on input data and get score\n",
    "    def get_score(self, input_data, lenghts):\n",
    "        return self.model.score(input_data, lenghts)\n",
    "    \n",
    "    # get probability\n",
    "    def predict(self, X,lengths):\n",
    "        return self.model.predict_proba(X,lengths)\n",
    "\n",
    "    # get parametr of model\n",
    "    def get_params():\n",
    "        return self.model.get_params()\n",
    "    \n",
    "    # save model\n",
    "    def save(self, label):\n",
    "        with open('{path}/mix_{label}.pkl'.format(path=self.model_path, label=label), 'wb') as f:\n",
    "            pickle.dump(self.model, f) "
   ]
  },
  {
   "cell_type": "markdown",
   "metadata": {},
   "source": [
    "## Create train and test dataset"
   ]
  },
  {
   "cell_type": "code",
   "execution_count": 12,
   "metadata": {},
   "outputs": [
    {
     "name": "stdout",
     "output_type": "stream",
     "text": [
      "Size of training matrix: (26027,)\n",
      "Size of testing matrix: (4593,)\n"
     ]
    },
    {
     "name": "stderr",
     "output_type": "stream",
     "text": [
      "C:\\Users\\Anar\\Anaconda3\\lib\\site-packages\\sklearn\\cross_validation.py:41: DeprecationWarning: This module was deprecated in version 0.18 in favor of the model_selection module into which all the refactored classes and functions are moved. Also note that the interface of the new CV iterators are different from that of this module. This module will be removed in 0.20.\n",
      "  \"This module will be removed in 0.20.\", DeprecationWarning)\n"
     ]
    }
   ],
   "source": [
    "# convert list to array\n",
    "data = np.array(data)\n",
    "\n",
    "from sklearn.cross_validation import StratifiedShuffleSplit\n",
    "sss = StratifiedShuffleSplit(all_labels, test_size=0.15, random_state=0)\n",
    "\n",
    "\n",
    "for train_index, test_index in sss:\n",
    "    X_train, X_test = data[train_index, ...], data[test_index, ...]\n",
    "    y_train, y_test = all_labels[train_index], all_labels[test_index]\n",
    "print('Size of training matrix:', X_train.shape)\n",
    "print('Size of testing matrix:', X_test.shape)"
   ]
  },
  {
   "cell_type": "markdown",
   "metadata": {},
   "source": [
    "## Train Model"
   ]
  },
  {
   "cell_type": "code",
   "execution_count": 24,
   "metadata": {
    "scrolled": true
   },
   "outputs": [
    {
     "name": "stdout",
     "output_type": "stream",
     "text": [
      "0.0\n"
     ]
    },
    {
     "name": "stderr",
     "output_type": "stream",
     "text": [
      "C:\\Users\\Anar\\Anaconda3\\lib\\site-packages\\sklearn\\utils\\deprecation.py:77: DeprecationWarning: Function distribute_covar_matrix_to_match_covariance_type is deprecated; The function distribute_covar_matrix_to_match_covariance_typeis deprecated in 0.18 and will be removed in 0.20.\n",
      "  warnings.warn(msg, category=DeprecationWarning)\n"
     ]
    },
    {
     "name": "stdout",
     "output_type": "stream",
     "text": [
      "1.0\n"
     ]
    },
    {
     "name": "stderr",
     "output_type": "stream",
     "text": [
      "C:\\Users\\Anar\\Anaconda3\\lib\\site-packages\\sklearn\\utils\\deprecation.py:77: DeprecationWarning: Function distribute_covar_matrix_to_match_covariance_type is deprecated; The function distribute_covar_matrix_to_match_covariance_typeis deprecated in 0.18 and will be removed in 0.20.\n",
      "  warnings.warn(msg, category=DeprecationWarning)\n"
     ]
    },
    {
     "name": "stdout",
     "output_type": "stream",
     "text": [
      "2.0\n"
     ]
    },
    {
     "name": "stderr",
     "output_type": "stream",
     "text": [
      "C:\\Users\\Anar\\Anaconda3\\lib\\site-packages\\sklearn\\utils\\deprecation.py:77: DeprecationWarning: Function distribute_covar_matrix_to_match_covariance_type is deprecated; The function distribute_covar_matrix_to_match_covariance_typeis deprecated in 0.18 and will be removed in 0.20.\n",
      "  warnings.warn(msg, category=DeprecationWarning)\n"
     ]
    },
    {
     "name": "stdout",
     "output_type": "stream",
     "text": [
      "3.0\n"
     ]
    },
    {
     "name": "stderr",
     "output_type": "stream",
     "text": [
      "C:\\Users\\Anar\\Anaconda3\\lib\\site-packages\\sklearn\\utils\\deprecation.py:77: DeprecationWarning: Function distribute_covar_matrix_to_match_covariance_type is deprecated; The function distribute_covar_matrix_to_match_covariance_typeis deprecated in 0.18 and will be removed in 0.20.\n",
      "  warnings.warn(msg, category=DeprecationWarning)\n"
     ]
    },
    {
     "name": "stdout",
     "output_type": "stream",
     "text": [
      "4.0\n"
     ]
    },
    {
     "name": "stderr",
     "output_type": "stream",
     "text": [
      "C:\\Users\\Anar\\Anaconda3\\lib\\site-packages\\sklearn\\utils\\deprecation.py:77: DeprecationWarning: Function distribute_covar_matrix_to_match_covariance_type is deprecated; The function distribute_covar_matrix_to_match_covariance_typeis deprecated in 0.18 and will be removed in 0.20.\n",
      "  warnings.warn(msg, category=DeprecationWarning)\n"
     ]
    },
    {
     "name": "stdout",
     "output_type": "stream",
     "text": [
      "5.0\n"
     ]
    },
    {
     "name": "stderr",
     "output_type": "stream",
     "text": [
      "C:\\Users\\Anar\\Anaconda3\\lib\\site-packages\\sklearn\\utils\\deprecation.py:77: DeprecationWarning: Function distribute_covar_matrix_to_match_covariance_type is deprecated; The function distribute_covar_matrix_to_match_covariance_typeis deprecated in 0.18 and will be removed in 0.20.\n",
      "  warnings.warn(msg, category=DeprecationWarning)\n"
     ]
    },
    {
     "name": "stdout",
     "output_type": "stream",
     "text": [
      "6.0\n"
     ]
    },
    {
     "name": "stderr",
     "output_type": "stream",
     "text": [
      "C:\\Users\\Anar\\Anaconda3\\lib\\site-packages\\sklearn\\utils\\deprecation.py:77: DeprecationWarning: Function distribute_covar_matrix_to_match_covariance_type is deprecated; The function distribute_covar_matrix_to_match_covariance_typeis deprecated in 0.18 and will be removed in 0.20.\n",
      "  warnings.warn(msg, category=DeprecationWarning)\n"
     ]
    },
    {
     "name": "stdout",
     "output_type": "stream",
     "text": [
      "7.0\n"
     ]
    },
    {
     "name": "stderr",
     "output_type": "stream",
     "text": [
      "C:\\Users\\Anar\\Anaconda3\\lib\\site-packages\\sklearn\\utils\\deprecation.py:77: DeprecationWarning: Function distribute_covar_matrix_to_match_covariance_type is deprecated; The function distribute_covar_matrix_to_match_covariance_typeis deprecated in 0.18 and will be removed in 0.20.\n",
      "  warnings.warn(msg, category=DeprecationWarning)\n"
     ]
    },
    {
     "name": "stdout",
     "output_type": "stream",
     "text": [
      "8.0\n"
     ]
    },
    {
     "name": "stderr",
     "output_type": "stream",
     "text": [
      "C:\\Users\\Anar\\Anaconda3\\lib\\site-packages\\sklearn\\utils\\deprecation.py:77: DeprecationWarning: Function distribute_covar_matrix_to_match_covariance_type is deprecated; The function distribute_covar_matrix_to_match_covariance_typeis deprecated in 0.18 and will be removed in 0.20.\n",
      "  warnings.warn(msg, category=DeprecationWarning)\n"
     ]
    },
    {
     "name": "stdout",
     "output_type": "stream",
     "text": [
      "9.0\n"
     ]
    },
    {
     "name": "stderr",
     "output_type": "stream",
     "text": [
      "C:\\Users\\Anar\\Anaconda3\\lib\\site-packages\\sklearn\\utils\\deprecation.py:77: DeprecationWarning: Function distribute_covar_matrix_to_match_covariance_type is deprecated; The function distribute_covar_matrix_to_match_covariance_typeis deprecated in 0.18 and will be removed in 0.20.\n",
      "  warnings.warn(msg, category=DeprecationWarning)\n"
     ]
    },
    {
     "name": "stdout",
     "output_type": "stream",
     "text": [
      "10.0\n"
     ]
    },
    {
     "name": "stderr",
     "output_type": "stream",
     "text": [
      "C:\\Users\\Anar\\Anaconda3\\lib\\site-packages\\sklearn\\utils\\deprecation.py:77: DeprecationWarning: Function distribute_covar_matrix_to_match_covariance_type is deprecated; The function distribute_covar_matrix_to_match_covariance_typeis deprecated in 0.18 and will be removed in 0.20.\n",
      "  warnings.warn(msg, category=DeprecationWarning)\n"
     ]
    },
    {
     "name": "stdout",
     "output_type": "stream",
     "text": [
      "11.0\n"
     ]
    },
    {
     "name": "stderr",
     "output_type": "stream",
     "text": [
      "C:\\Users\\Anar\\Anaconda3\\lib\\site-packages\\sklearn\\utils\\deprecation.py:77: DeprecationWarning: Function distribute_covar_matrix_to_match_covariance_type is deprecated; The function distribute_covar_matrix_to_match_covariance_typeis deprecated in 0.18 and will be removed in 0.20.\n",
      "  warnings.warn(msg, category=DeprecationWarning)\n"
     ]
    },
    {
     "name": "stdout",
     "output_type": "stream",
     "text": [
      "12.0\n"
     ]
    },
    {
     "name": "stderr",
     "output_type": "stream",
     "text": [
      "C:\\Users\\Anar\\Anaconda3\\lib\\site-packages\\sklearn\\utils\\deprecation.py:77: DeprecationWarning: Function distribute_covar_matrix_to_match_covariance_type is deprecated; The function distribute_covar_matrix_to_match_covariance_typeis deprecated in 0.18 and will be removed in 0.20.\n",
      "  warnings.warn(msg, category=DeprecationWarning)\n"
     ]
    },
    {
     "name": "stdout",
     "output_type": "stream",
     "text": [
      "13.0\n"
     ]
    },
    {
     "name": "stderr",
     "output_type": "stream",
     "text": [
      "C:\\Users\\Anar\\Anaconda3\\lib\\site-packages\\sklearn\\utils\\deprecation.py:77: DeprecationWarning: Function distribute_covar_matrix_to_match_covariance_type is deprecated; The function distribute_covar_matrix_to_match_covariance_typeis deprecated in 0.18 and will be removed in 0.20.\n",
      "  warnings.warn(msg, category=DeprecationWarning)\n"
     ]
    },
    {
     "name": "stdout",
     "output_type": "stream",
     "text": [
      "14.0\n"
     ]
    },
    {
     "name": "stderr",
     "output_type": "stream",
     "text": [
      "C:\\Users\\Anar\\Anaconda3\\lib\\site-packages\\sklearn\\utils\\deprecation.py:77: DeprecationWarning: Function distribute_covar_matrix_to_match_covariance_type is deprecated; The function distribute_covar_matrix_to_match_covariance_typeis deprecated in 0.18 and will be removed in 0.20.\n",
      "  warnings.warn(msg, category=DeprecationWarning)\n"
     ]
    },
    {
     "name": "stdout",
     "output_type": "stream",
     "text": [
      "15.0\n"
     ]
    },
    {
     "name": "stderr",
     "output_type": "stream",
     "text": [
      "C:\\Users\\Anar\\Anaconda3\\lib\\site-packages\\sklearn\\utils\\deprecation.py:77: DeprecationWarning: Function distribute_covar_matrix_to_match_covariance_type is deprecated; The function distribute_covar_matrix_to_match_covariance_typeis deprecated in 0.18 and will be removed in 0.20.\n",
      "  warnings.warn(msg, category=DeprecationWarning)\n"
     ]
    },
    {
     "name": "stdout",
     "output_type": "stream",
     "text": [
      "16.0\n"
     ]
    },
    {
     "name": "stderr",
     "output_type": "stream",
     "text": [
      "C:\\Users\\Anar\\Anaconda3\\lib\\site-packages\\sklearn\\utils\\deprecation.py:77: DeprecationWarning: Function distribute_covar_matrix_to_match_covariance_type is deprecated; The function distribute_covar_matrix_to_match_covariance_typeis deprecated in 0.18 and will be removed in 0.20.\n",
      "  warnings.warn(msg, category=DeprecationWarning)\n"
     ]
    },
    {
     "name": "stdout",
     "output_type": "stream",
     "text": [
      "17.0\n"
     ]
    },
    {
     "name": "stderr",
     "output_type": "stream",
     "text": [
      "C:\\Users\\Anar\\Anaconda3\\lib\\site-packages\\sklearn\\utils\\deprecation.py:77: DeprecationWarning: Function distribute_covar_matrix_to_match_covariance_type is deprecated; The function distribute_covar_matrix_to_match_covariance_typeis deprecated in 0.18 and will be removed in 0.20.\n",
      "  warnings.warn(msg, category=DeprecationWarning)\n"
     ]
    },
    {
     "name": "stdout",
     "output_type": "stream",
     "text": [
      "18.0\n"
     ]
    },
    {
     "name": "stderr",
     "output_type": "stream",
     "text": [
      "C:\\Users\\Anar\\Anaconda3\\lib\\site-packages\\sklearn\\utils\\deprecation.py:77: DeprecationWarning: Function distribute_covar_matrix_to_match_covariance_type is deprecated; The function distribute_covar_matrix_to_match_covariance_typeis deprecated in 0.18 and will be removed in 0.20.\n",
      "  warnings.warn(msg, category=DeprecationWarning)\n"
     ]
    },
    {
     "name": "stdout",
     "output_type": "stream",
     "text": [
      "19.0\n"
     ]
    },
    {
     "name": "stderr",
     "output_type": "stream",
     "text": [
      "C:\\Users\\Anar\\Anaconda3\\lib\\site-packages\\sklearn\\utils\\deprecation.py:77: DeprecationWarning: Function distribute_covar_matrix_to_match_covariance_type is deprecated; The function distribute_covar_matrix_to_match_covariance_typeis deprecated in 0.18 and will be removed in 0.20.\n",
      "  warnings.warn(msg, category=DeprecationWarning)\n"
     ]
    },
    {
     "name": "stdout",
     "output_type": "stream",
     "text": [
      "20.0\n"
     ]
    },
    {
     "name": "stderr",
     "output_type": "stream",
     "text": [
      "C:\\Users\\Anar\\Anaconda3\\lib\\site-packages\\sklearn\\utils\\deprecation.py:77: DeprecationWarning: Function distribute_covar_matrix_to_match_covariance_type is deprecated; The function distribute_covar_matrix_to_match_covariance_typeis deprecated in 0.18 and will be removed in 0.20.\n",
      "  warnings.warn(msg, category=DeprecationWarning)\n"
     ]
    },
    {
     "name": "stdout",
     "output_type": "stream",
     "text": [
      "21.0\n"
     ]
    },
    {
     "name": "stderr",
     "output_type": "stream",
     "text": [
      "C:\\Users\\Anar\\Anaconda3\\lib\\site-packages\\sklearn\\utils\\deprecation.py:77: DeprecationWarning: Function distribute_covar_matrix_to_match_covariance_type is deprecated; The function distribute_covar_matrix_to_match_covariance_typeis deprecated in 0.18 and will be removed in 0.20.\n",
      "  warnings.warn(msg, category=DeprecationWarning)\n"
     ]
    },
    {
     "name": "stdout",
     "output_type": "stream",
     "text": [
      "22.0\n"
     ]
    },
    {
     "name": "stderr",
     "output_type": "stream",
     "text": [
      "C:\\Users\\Anar\\Anaconda3\\lib\\site-packages\\sklearn\\utils\\deprecation.py:77: DeprecationWarning: Function distribute_covar_matrix_to_match_covariance_type is deprecated; The function distribute_covar_matrix_to_match_covariance_typeis deprecated in 0.18 and will be removed in 0.20.\n",
      "  warnings.warn(msg, category=DeprecationWarning)\n"
     ]
    },
    {
     "name": "stdout",
     "output_type": "stream",
     "text": [
      "23.0\n"
     ]
    },
    {
     "name": "stderr",
     "output_type": "stream",
     "text": [
      "C:\\Users\\Anar\\Anaconda3\\lib\\site-packages\\sklearn\\utils\\deprecation.py:77: DeprecationWarning: Function distribute_covar_matrix_to_match_covariance_type is deprecated; The function distribute_covar_matrix_to_match_covariance_typeis deprecated in 0.18 and will be removed in 0.20.\n",
      "  warnings.warn(msg, category=DeprecationWarning)\n"
     ]
    },
    {
     "name": "stdout",
     "output_type": "stream",
     "text": [
      "24.0\n"
     ]
    },
    {
     "name": "stderr",
     "output_type": "stream",
     "text": [
      "C:\\Users\\Anar\\Anaconda3\\lib\\site-packages\\sklearn\\utils\\deprecation.py:77: DeprecationWarning: Function distribute_covar_matrix_to_match_covariance_type is deprecated; The function distribute_covar_matrix_to_match_covariance_typeis deprecated in 0.18 and will be removed in 0.20.\n",
      "  warnings.warn(msg, category=DeprecationWarning)\n"
     ]
    },
    {
     "name": "stdout",
     "output_type": "stream",
     "text": [
      "25.0\n"
     ]
    },
    {
     "name": "stderr",
     "output_type": "stream",
     "text": [
      "C:\\Users\\Anar\\Anaconda3\\lib\\site-packages\\sklearn\\utils\\deprecation.py:77: DeprecationWarning: Function distribute_covar_matrix_to_match_covariance_type is deprecated; The function distribute_covar_matrix_to_match_covariance_typeis deprecated in 0.18 and will be removed in 0.20.\n",
      "  warnings.warn(msg, category=DeprecationWarning)\n"
     ]
    },
    {
     "name": "stdout",
     "output_type": "stream",
     "text": [
      "26.0\n"
     ]
    },
    {
     "name": "stderr",
     "output_type": "stream",
     "text": [
      "C:\\Users\\Anar\\Anaconda3\\lib\\site-packages\\sklearn\\utils\\deprecation.py:77: DeprecationWarning: Function distribute_covar_matrix_to_match_covariance_type is deprecated; The function distribute_covar_matrix_to_match_covariance_typeis deprecated in 0.18 and will be removed in 0.20.\n",
      "  warnings.warn(msg, category=DeprecationWarning)\n"
     ]
    },
    {
     "name": "stdout",
     "output_type": "stream",
     "text": [
      "27.0\n"
     ]
    },
    {
     "name": "stderr",
     "output_type": "stream",
     "text": [
      "C:\\Users\\Anar\\Anaconda3\\lib\\site-packages\\sklearn\\utils\\deprecation.py:77: DeprecationWarning: Function distribute_covar_matrix_to_match_covariance_type is deprecated; The function distribute_covar_matrix_to_match_covariance_typeis deprecated in 0.18 and will be removed in 0.20.\n",
      "  warnings.warn(msg, category=DeprecationWarning)\n"
     ]
    },
    {
     "name": "stdout",
     "output_type": "stream",
     "text": [
      "28.0\n"
     ]
    },
    {
     "name": "stderr",
     "output_type": "stream",
     "text": [
      "C:\\Users\\Anar\\Anaconda3\\lib\\site-packages\\sklearn\\utils\\deprecation.py:77: DeprecationWarning: Function distribute_covar_matrix_to_match_covariance_type is deprecated; The function distribute_covar_matrix_to_match_covariance_typeis deprecated in 0.18 and will be removed in 0.20.\n",
      "  warnings.warn(msg, category=DeprecationWarning)\n"
     ]
    },
    {
     "name": "stdout",
     "output_type": "stream",
     "text": [
      "29.0\n"
     ]
    },
    {
     "name": "stderr",
     "output_type": "stream",
     "text": [
      "C:\\Users\\Anar\\Anaconda3\\lib\\site-packages\\sklearn\\utils\\deprecation.py:77: DeprecationWarning: Function distribute_covar_matrix_to_match_covariance_type is deprecated; The function distribute_covar_matrix_to_match_covariance_typeis deprecated in 0.18 and will be removed in 0.20.\n",
      "  warnings.warn(msg, category=DeprecationWarning)\n"
     ]
    },
    {
     "name": "stdout",
     "output_type": "stream",
     "text": [
      "30.0\n"
     ]
    },
    {
     "name": "stderr",
     "output_type": "stream",
     "text": [
      "C:\\Users\\Anar\\Anaconda3\\lib\\site-packages\\sklearn\\utils\\deprecation.py:77: DeprecationWarning: Function distribute_covar_matrix_to_match_covariance_type is deprecated; The function distribute_covar_matrix_to_match_covariance_typeis deprecated in 0.18 and will be removed in 0.20.\n",
      "  warnings.warn(msg, category=DeprecationWarning)\n"
     ]
    },
    {
     "name": "stdout",
     "output_type": "stream",
     "text": [
      "31.0\n"
     ]
    },
    {
     "name": "stderr",
     "output_type": "stream",
     "text": [
      "C:\\Users\\Anar\\Anaconda3\\lib\\site-packages\\sklearn\\utils\\deprecation.py:77: DeprecationWarning: Function distribute_covar_matrix_to_match_covariance_type is deprecated; The function distribute_covar_matrix_to_match_covariance_typeis deprecated in 0.18 and will be removed in 0.20.\n",
      "  warnings.warn(msg, category=DeprecationWarning)\n"
     ]
    },
    {
     "name": "stdout",
     "output_type": "stream",
     "text": [
      "32.0\n"
     ]
    },
    {
     "name": "stderr",
     "output_type": "stream",
     "text": [
      "C:\\Users\\Anar\\Anaconda3\\lib\\site-packages\\sklearn\\utils\\deprecation.py:77: DeprecationWarning: Function distribute_covar_matrix_to_match_covariance_type is deprecated; The function distribute_covar_matrix_to_match_covariance_typeis deprecated in 0.18 and will be removed in 0.20.\n",
      "  warnings.warn(msg, category=DeprecationWarning)\n"
     ]
    },
    {
     "name": "stdout",
     "output_type": "stream",
     "text": [
      "33.0\n"
     ]
    },
    {
     "name": "stderr",
     "output_type": "stream",
     "text": [
      "C:\\Users\\Anar\\Anaconda3\\lib\\site-packages\\sklearn\\utils\\deprecation.py:77: DeprecationWarning: Function distribute_covar_matrix_to_match_covariance_type is deprecated; The function distribute_covar_matrix_to_match_covariance_typeis deprecated in 0.18 and will be removed in 0.20.\n",
      "  warnings.warn(msg, category=DeprecationWarning)\n"
     ]
    },
    {
     "name": "stdout",
     "output_type": "stream",
     "text": [
      "34.0\n"
     ]
    },
    {
     "name": "stderr",
     "output_type": "stream",
     "text": [
      "C:\\Users\\Anar\\Anaconda3\\lib\\site-packages\\sklearn\\utils\\deprecation.py:77: DeprecationWarning: Function distribute_covar_matrix_to_match_covariance_type is deprecated; The function distribute_covar_matrix_to_match_covariance_typeis deprecated in 0.18 and will be removed in 0.20.\n",
      "  warnings.warn(msg, category=DeprecationWarning)\n"
     ]
    },
    {
     "name": "stdout",
     "output_type": "stream",
     "text": [
      "35.0\n"
     ]
    },
    {
     "name": "stderr",
     "output_type": "stream",
     "text": [
      "C:\\Users\\Anar\\Anaconda3\\lib\\site-packages\\sklearn\\utils\\deprecation.py:77: DeprecationWarning: Function distribute_covar_matrix_to_match_covariance_type is deprecated; The function distribute_covar_matrix_to_match_covariance_typeis deprecated in 0.18 and will be removed in 0.20.\n",
      "  warnings.warn(msg, category=DeprecationWarning)\n"
     ]
    },
    {
     "name": "stdout",
     "output_type": "stream",
     "text": [
      "36.0\n"
     ]
    },
    {
     "name": "stderr",
     "output_type": "stream",
     "text": [
      "C:\\Users\\Anar\\Anaconda3\\lib\\site-packages\\sklearn\\utils\\deprecation.py:77: DeprecationWarning: Function distribute_covar_matrix_to_match_covariance_type is deprecated; The function distribute_covar_matrix_to_match_covariance_typeis deprecated in 0.18 and will be removed in 0.20.\n",
      "  warnings.warn(msg, category=DeprecationWarning)\n"
     ]
    },
    {
     "name": "stdout",
     "output_type": "stream",
     "text": [
      "37.0\n"
     ]
    },
    {
     "name": "stderr",
     "output_type": "stream",
     "text": [
      "C:\\Users\\Anar\\Anaconda3\\lib\\site-packages\\sklearn\\utils\\deprecation.py:77: DeprecationWarning: Function distribute_covar_matrix_to_match_covariance_type is deprecated; The function distribute_covar_matrix_to_match_covariance_typeis deprecated in 0.18 and will be removed in 0.20.\n",
      "  warnings.warn(msg, category=DeprecationWarning)\n"
     ]
    },
    {
     "name": "stdout",
     "output_type": "stream",
     "text": [
      "38.0\n"
     ]
    },
    {
     "name": "stderr",
     "output_type": "stream",
     "text": [
      "C:\\Users\\Anar\\Anaconda3\\lib\\site-packages\\sklearn\\utils\\deprecation.py:77: DeprecationWarning: Function distribute_covar_matrix_to_match_covariance_type is deprecated; The function distribute_covar_matrix_to_match_covariance_typeis deprecated in 0.18 and will be removed in 0.20.\n",
      "  warnings.warn(msg, category=DeprecationWarning)\n"
     ]
    },
    {
     "name": "stdout",
     "output_type": "stream",
     "text": [
      "39.0\n"
     ]
    },
    {
     "name": "stderr",
     "output_type": "stream",
     "text": [
      "C:\\Users\\Anar\\Anaconda3\\lib\\site-packages\\sklearn\\utils\\deprecation.py:77: DeprecationWarning: Function distribute_covar_matrix_to_match_covariance_type is deprecated; The function distribute_covar_matrix_to_match_covariance_typeis deprecated in 0.18 and will be removed in 0.20.\n",
      "  warnings.warn(msg, category=DeprecationWarning)\n"
     ]
    },
    {
     "name": "stdout",
     "output_type": "stream",
     "text": [
      "40.0\n"
     ]
    },
    {
     "name": "stderr",
     "output_type": "stream",
     "text": [
      "C:\\Users\\Anar\\Anaconda3\\lib\\site-packages\\sklearn\\utils\\deprecation.py:77: DeprecationWarning: Function distribute_covar_matrix_to_match_covariance_type is deprecated; The function distribute_covar_matrix_to_match_covariance_typeis deprecated in 0.18 and will be removed in 0.20.\n",
      "  warnings.warn(msg, category=DeprecationWarning)\n"
     ]
    }
   ],
   "source": [
    "hmm_models = [] # list to keep all models\n",
    "\n",
    "for label in unique_words:\n",
    "    \n",
    "    lengths = []\n",
    "    \n",
    "    # get label datas\n",
    "    tmp_label_data=X_train[y_train == label]\n",
    "    \n",
    "    # CONCATENATE TRAIN AND TEST word_data\n",
    "    \n",
    "    # get first concatenate\n",
    "    train_data=np.array([])\n",
    "    train_data=tmp_label_data[0]\n",
    "    \n",
    "    # get first concatenate lenght\n",
    "    lengths.append(tmp_label_data[0].shape[0])\n",
    "    \n",
    "    for i in range(1,tmp_label_data.shape[0]):\n",
    "        train_data=np.append(train_data,tmp_label_data[i],axis=0)\n",
    "        lengths.append(tmp_label_data[i].shape[0])\n",
    "    \n",
    "    print(label)\n",
    "\n",
    "    \n",
    "    # sclae values\n",
    "    scaler = StandardScaler()\n",
    "    scaler.fit(train_data)\n",
    "    train_data = scaler.transform(train_data) \n",
    "    \n",
    "    # train model\n",
    "    hmm_trainer = HMMTrainer(model_path='models/HMMs/mix')\n",
    "    hmm_trainer.train(train_data, lengths)\n",
    "    \n",
    "    # append model\n",
    "    hmm_models.append((hmm_trainer, label))\n",
    "    # save model\n",
    "    \n",
    "    hmm_trainer.save(int(label))\n",
    "    hmm_trainer = None"
   ]
  },
  {
   "cell_type": "markdown",
   "metadata": {},
   "source": [
    "#### Train Score"
   ]
  },
  {
   "cell_type": "code",
   "execution_count": 25,
   "metadata": {},
   "outputs": [],
   "source": [
    "# loaded_model = pickle.load(open('models/HMMs/mix/mix_1.pkl', 'rb'))"
   ]
  },
  {
   "cell_type": "code",
   "execution_count": 26,
   "metadata": {},
   "outputs": [
    {
     "name": "stdout",
     "output_type": "stream",
     "text": [
      "Overall test accuracy: 96.12 percent\n"
     ]
    }
   ],
   "source": [
    "for i,_ in enumerate(X_train):\n",
    "    scaler = StandardScaler()\n",
    "    scaler.fit(X_train[i])\n",
    "    X_train[i] = scaler.transform(X_train[i])\n",
    "\n",
    "logprob = np.array([[m[0].get_score(i, [i.shape[0]]) for i in X_train] for m in hmm_models])\n",
    "predicted_label = np.argmax(logprob, axis=0)\n",
    "error = (predicted_label != y_train)\n",
    "print('Overall test accuracy: %.2f percent' % (100 * (1 - np.mean(error))))"
   ]
  },
  {
   "cell_type": "markdown",
   "metadata": {},
   "source": [
    "#### Test Score"
   ]
  },
  {
   "cell_type": "code",
   "execution_count": 27,
   "metadata": {},
   "outputs": [
    {
     "name": "stdout",
     "output_type": "stream",
     "text": [
      "Overall test accuracy: 95.12 percent\n"
     ]
    }
   ],
   "source": [
    "for i,_ in enumerate(X_test):\n",
    "    scaler = StandardScaler()\n",
    "    scaler.fit(X_test[i])\n",
    "    X_test[i] = scaler.transform(X_test[i])\n",
    "\n",
    "\n",
    "logprob = np.array([[m[0].get_score(i, [i.shape[0]]) for i in X_test] for m in hmm_models])\n",
    "\n",
    "predicted_label = np.argmax(logprob, axis=0)\n",
    "error = (predicted_label != y_test)\n",
    "print('Overall test accuracy: %.2f percent' % (100 * (1 - np.mean(error))))"
   ]
  },
  {
   "cell_type": "code",
   "execution_count": 28,
   "metadata": {},
   "outputs": [
    {
     "data": {
      "image/png": "[encoded data removed]",
      "text/plain": [
       "<Figure size 1440x1440 with 2 Axes>"
      ]
     },
     "metadata": {},
     "output_type": "display_data"
    }
   ],
   "source": [
    "# plot confusion matrix\n",
    "conf_mat = confusion_matrix(y_test, predicted_label)\n",
    "plot_confusion_matrix(conf_mat, word_spoken, 'Prediction', 'Truth', normalize=True)"
   ]
  },
  {
   "cell_type": "markdown",
   "metadata": {},
   "source": [
    "# MODEL OPTIMIZATION\n",
    "\n",
    "In this section we optimize model parameters and obtain a single, best classifier for each word.\n",
    "\n",
    "## Model Desciption"
   ]
  },
  {
   "cell_type": "code",
   "execution_count": null,
   "metadata": {},
   "outputs": [],
   "source": [
    "# initialize model\n",
    "hmm_speech_clf = hmm.GaussianHMM(n_components=2,\n",
    "                                 n_iter=1000,\n",
    "                                 init_params=\"smtc\", \n",
    "                                 params=\"smtc\")"
   ]
  },
  {
   "cell_type": "code",
   "execution_count": null,
   "metadata": {},
   "outputs": [],
   "source": [
    "# describe model parameters\n",
    "params = hmm_speech_clf.get_params()\n",
    "max_key_len = max(len(key) for key in params.keys())\n",
    "max_val_len = max(len(str(val)) for val in params.values())\n",
    "header = '{:<{key_width}} : {:<{val_width}}'.format(\n",
    "    'Parameters',\n",
    "    'Current values',\n",
    "    key_width=max_key_len,\n",
    "    val_width=max_val_len\n",
    ")\n",
    "\n",
    "print(header)\n",
    "print('-'*len(header))\n",
    "for key, val in params.items():\n",
    "    print('{:{width}} : {}'.format(key, val, width=max_key_len))"
   ]
  },
  {
   "cell_type": "markdown",
   "metadata": {},
   "source": [
    "## Parameters\n",
    "Every possible combination selected for our Gird Seach.\n",
    "Grid Search we developed does a 10-fold cross validation for each parameter configuration. Average score on a 10-fold cross validation is set as the score of that particular parameter configuration. The configuration with the highest 10-fold CV score wins."
   ]
  },
  {
   "cell_type": "code",
   "execution_count": null,
   "metadata": {},
   "outputs": [],
   "source": [
    "# Create the random grid\n",
    "param_grid = [\n",
    "    {      \n",
    "            'n_components': [3, 5, 10,15],\n",
    "            'covariance_type': ['diag','full'],\n",
    "            'algorithm': ['viterbi', 'map']\n",
    "    }\n",
    "]\n",
    "\n",
    "param_combination = []\n",
    "para_label=['n_components', 'covariance_type','algorithm']\n",
    "\n",
    "# parameter list for storing all possible combinations\n",
    "param_list = []"
   ]
  },
  {
   "cell_type": "code",
   "execution_count": null,
   "metadata": {},
   "outputs": [],
   "source": [
    "# create all possible parameters combinations for optimizations\n",
    "for n_com in param_grid[0]['n_components']:\n",
    "        for n_cov in param_grid[0]['covariance_type']:\n",
    "            for n_alg in param_grid[0]['algorithm']:\n",
    "                param_dict = dict(zip(para_label, [n_com, n_cov, n_alg]))\n",
    "                param_list.append(param_dict)"
   ]
  },
  {
   "cell_type": "markdown",
   "metadata": {},
   "source": [
    "## Search Parameter Space"
   ]
  },
  {
   "cell_type": "code",
   "execution_count": null,
   "metadata": {
    "scrolled": false
   },
   "outputs": [],
   "source": [
    "k_fold = 2 # initialsize fold number to 10\n",
    "\n",
    "# gird search\n",
    "\n",
    "# iterate through all labeled words\n",
    "for label in unique_words:\n",
    "  \n",
    "    \n",
    "    # seperate word_data list based on k_fold and create new word_data set\n",
    "    word_data = seperate_list(X_train[y_train==label],k_fold)\n",
    "    word_data = np.array(word_data)\n",
    "\n",
    "    # create indices list for sperating word_data set \n",
    "    select=[x for x in range(k_fold)] \n",
    "    select=np.array(select)\n",
    "    \n",
    "    max_result=-100000000000\n",
    "    # object for saving best model\n",
    "    best_model= None\n",
    "    \n",
    "    # itereate throgh every parameter combination for every current word\n",
    "    for param_i,_ in enumerate(param_list):\n",
    "       \n",
    "        k_fold_result=[] # list for stroing result of k_folds\n",
    "\n",
    "        # iterate thourgh k_fold in each parameter combination\n",
    "        for k in range(0,k_fold):\n",
    "\n",
    "\n",
    "            # extract word_data set based on k-fold\n",
    "            train  = word_data[select!=k] # k_fold-1 for train \n",
    "            test = word_data[select==k]   # 1 for test\n",
    "\n",
    "            # CONCATENATE TRAIN AND TEST word_data\n",
    "            \n",
    "            # do first word_data array concatenate\n",
    "            train_word_data=np.array(train[0][0])\n",
    "            test_word_data=np.array(test[0][0])\n",
    "            \n",
    "            \n",
    "            # get lenght for each test&train word_data\n",
    "            lengths_train=[train[0][0].shape[0]] #get first length\n",
    "            lengths_test=[test[0][0].shape[0]] #get first length\n",
    "\n",
    "\n",
    "            # do the rest of concatenation for train\n",
    "            for i in range(0,train.shape[0]):\n",
    "                for j in range(0,train[i].shape[0]):\n",
    "                    if (i!=0 or j!=0):\n",
    "                        train_word_data=np.append(train_word_data,train[i][j],axis=0)\n",
    "                        lengths_train.append(train[i][j].shape[0])\n",
    "\n",
    "            # do the rest of concatenation for test\n",
    "            for i in range(0,test.shape[0]):\n",
    "                for j in range(0,test[i].shape[0]):\n",
    "                    if (i!=0 or j!=0):\n",
    "                        test_word_data=np.append(test_word_data,test[i][j],axis=0)\n",
    "                        lengths_test.append(test[i][j].shape[0])\n",
    "                        \n",
    "                        \n",
    "            # scale train word_data\n",
    "            scaler = StandardScaler()\n",
    "            scaler.fit(train_word_data)\n",
    "            train_word_data = scaler.transform(train_word_data)\n",
    "            \n",
    "            # scale test word_data\n",
    "            scaler = StandardScaler()\n",
    "            scaler.fit(test_word_data)\n",
    "            test_word_data = scaler.transform(test_word_data)\n",
    "\n",
    "            # set parameter values to model\n",
    "            hmm_trainer = HMMTrainer(n_components = param_list[param_i]['n_components'],\n",
    "                                    algorithm = param_list[param_i]['algorithm'],\n",
    "                                    covariance_type = param_list[param_i]['covariance_type'])\n",
    "            \n",
    "            \n",
    "            # train model\n",
    "            hmm_trainer.train(train_word_data, lengths_train)\n",
    "            # get result of trained model on test set\n",
    "            k_fold_result.append(hmm_trainer.get_score(test_word_data,lengths_test))\n",
    "\n",
    "            hmm_trainer=None\n",
    "\n",
    "        if (sum(k_fold_result)>max_result):\n",
    "            max_result=sum(k_fold_result)\n",
    "            best_model=hmm_trainer\n",
    "            \n",
    "    # save best model\n",
    "    with open('{}_grid_search_cv.pkl'.format(label), 'wb') as f:\n",
    "        pickle.dump(best_model, f) \n",
    "    print(best_model)"
   ]
  }
 ],
 "metadata": {
  "kernelspec": {
   "display_name": "Python 3",
   "language": "python",
   "name": "python3"
  },
  "language_info": {
   "codemirror_mode": {
    "name": "ipython",
    "version": 3
   },
   "file_extension": ".py",
   "mimetype": "text/x-python",
   "name": "python",
   "nbconvert_exporter": "python",
   "pygments_lexer": "ipython3",
   "version": "3.6.5"
  }
 },
 "nbformat": 4,
 "nbformat_minor": 2
}
