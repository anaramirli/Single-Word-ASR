{
 "cells": [
  {
   "cell_type": "code",
   "execution_count": 2,
   "metadata": {},
   "outputs": [
    {
     "name": "stderr",
     "output_type": "stream",
     "text": [
      "Using TensorFlow backend.\n"
     ]
    }
   ],
   "source": [
    "import numpy as np\n",
    "import os\n",
    "from scipy.io import wavfile\n",
    "from python_speech_features import mfcc, logfbank\n",
    "import matplotlib.pyplot as plt\n",
    "import pickle\n",
    "from sklearn.metrics import confusion_matrix\n",
    "from sklearn.preprocessing import StandardScaler\n",
    "from keras.layers import LSTM, Dense, TimeDistributed\n",
    "from sklearn.neural_network import MLPClassifier\n",
    "from sklearn import preprocessing\n",
    "from keras.layers import Input, Dense\n",
    "from keras.models import Model\n",
    "%matplotlib inline\n",
    "import pandas as pd\n",
    "from keras.models import Sequential\n",
    "\n",
    "from utils import *"
   ]
  },
  {
   "cell_type": "markdown",
   "metadata": {},
   "source": [
    "#### Get data"
   ]
  },
  {
   "cell_type": "code",
   "execution_count": 2,
   "metadata": {},
   "outputs": [
    {
     "name": "stdout",
     "output_type": "stream",
     "text": [
      "Spoken words: ['0_zero', '1_one', '2_two', '3_three', '4_four', '5_five', '6_six', '7_seven', '8_eight', '9_nine', 'aboard', 'adjusted & locked', 'All switches', 'Alternate air door', 'A_C Documents', 'Battery+Main bus', 'Cabin doors', 'Checked', 'Circuit Breakers', 'Closed', 'Cockpit', 'Cockpit checklist completed', 'Completed', 'decimal', 'Flight Controls', 'Fuel Quantity', 'Fuel Selector', 'Fuel Shutoff Valve', 'Fuel Temperature', 'in', 'locked', 'off', 'On', 'open', 'preflight_inspection', 'removed', 'Seats & Belts', 'Shut-off cabin heat', 'sufficient', 'Towbar', 'Weight and balance']\n"
     ]
    }
   ],
   "source": [
    "fpaths = []\n",
    "labels = []\n",
    "word_spoken = []\n",
    "\n",
    "\n",
    "dataset = '41'\n",
    "input_folder = 'data\\{}'.format(dataset)\n",
    "\n",
    "# pars the input directory that contains audio files\n",
    "# get audio files and their lables\n",
    "\n",
    "for f in os.listdir(input_folder):\n",
    "    for w in os.listdir(input_folder+'\\\\'+ f):\n",
    "        # check wheter files is wav or not\n",
    "        \n",
    "        if (w.find('wav')!=-1):\n",
    "            fpaths.append(input_folder+'\\\\'+f+'\\\\'+w)\n",
    "            labels.append(f)\n",
    "            if f not in word_spoken:\n",
    "                word_spoken.append(f)\n",
    "print(\"Spoken words: \"+ str(word_spoken))"
   ]
  },
  {
   "cell_type": "code",
   "execution_count": 3,
   "metadata": {},
   "outputs": [
    {
     "name": "stdout",
     "output_type": "stream",
     "text": [
      "21433\n"
     ]
    }
   ],
   "source": [
    "# size of dataset\n",
    "print(len(labels))"
   ]
  },
  {
   "cell_type": "code",
   "execution_count": null,
   "metadata": {},
   "outputs": [],
   "source": []
  },
  {
   "cell_type": "markdown",
   "metadata": {},
   "source": [
    "## Extracting frequeny domain features\n",
    "\n",
    "At the second stage we convet a signal into the freqency domain. In monst modern speech recognitoon freqeency-domain features are used as key component. In case of multispeakers MFFC feature extraction works best. After convert a signal into a freq domain, it's requered to convert it into a useable form. **Mel Frequency Cepstral Coefficients (MFCC)** is a good way to do that. *MFCC* takes the power spectrum of a signal and then uses a combination of filter banks and disrete cosinetransform to extract pattern of phones or features.\n",
    "\n",
    "After extracting **MFFC** features we exract data into single data matrix, and a label vector with the correct label for eac data file is ceated. "
   ]
  },
  {
   "cell_type": "code",
   "execution_count": 66,
   "metadata": {},
   "outputs": [
    {
     "name": "stdout",
     "output_type": "stream",
     "text": [
      "0_zero\n",
      "1_one\n",
      "2_two\n",
      "3_three\n",
      "4_four\n",
      "5_five\n",
      "6_six\n",
      "7_seven\n",
      "8_eight\n",
      "9_nine\n",
      "aboard\n",
      "adjusted & locked\n",
      "All switches\n",
      "Alternate air door\n",
      "A_C Documents\n",
      "Battery+Main bus\n",
      "Cabin doors\n",
      "Checked\n",
      "Circuit Breakers\n",
      "Closed\n",
      "Cockpit\n",
      "Cockpit checklist completed\n",
      "Completed\n",
      "decimal\n",
      "Flight Controls\n",
      "Fuel Quantity\n",
      "Fuel Selector\n",
      "Fuel Shutoff Valve\n",
      "Fuel Temperature\n",
      "in\n",
      "locked\n",
      "off\n",
      "On\n",
      "open\n",
      "preflight_inspection\n",
      "removed\n",
      "Seats & Belts\n",
      "Shut-off cabin heat\n",
      "sufficient\n",
      "Towbar\n",
      "Weight and balance\n"
     ]
    }
   ],
   "source": [
    "from scipy.io import wavfile\n",
    "\n",
    "data = []\n",
    "\n",
    "mfcc_max_length = 0\n",
    "mfcc_min_length = 1000000\n",
    "sum_mfcc_features = 0\n",
    "\n",
    "# first file desitination name and index\n",
    "file_name = ''\n",
    "word_spoken_index = 0\n",
    "\n",
    "for n,file in enumerate(fpaths):\n",
    "    \n",
    "    # show current desintation \n",
    "    if (file.find(file_name)<=0):\n",
    "        file_name=word_spoken[word_spoken_index]\n",
    "        print(word_spoken[word_spoken_index])\n",
    "        word_spoken_index+=1\n",
    "\n",
    "    # read file \n",
    "    sampling_freq, audio = wavfile.read(file)\n",
    "    # Extract MFCC features\n",
    "    mfcc_features = mfcc(audio, sampling_freq)\n",
    "\n",
    "    \n",
    "    mfcc_len=mfcc_features.shape[0]*mfcc_features.shape[1]\n",
    "    # get length of largets feature array\n",
    "    if mfcc_len>mfcc_max_length:    \n",
    "        mfcc_max_length=mfcc_len\n",
    "    if mfcc_len<mfcc_min_length:\n",
    "        mfcc_min_length=mfcc_len\n",
    "        \n",
    "    sum_mfcc_features+=mfcc_len\n",
    "     \n",
    "    # flat data into 2D array\n",
    "    mfcc_features=np.resize(mfcc_features,(1,mfcc_len))\n",
    "    \n",
    "    data.insert(n,mfcc_features)\n",
    "    \n",
    "median_mfcc=int(sum_mfcc_features/len(data))"
   ]
  },
  {
   "cell_type": "code",
   "execution_count": 4,
   "metadata": {},
   "outputs": [
    {
     "name": "stdout",
     "output_type": "stream",
     "text": [
      "0_zero\n",
      "1_one\n",
      "2_two\n",
      "3_three\n",
      "4_four\n",
      "5_five\n",
      "6_six\n",
      "7_seven\n",
      "8_eight\n",
      "9_nine\n",
      "aboard\n",
      "adjusted & locked\n",
      "All switches\n",
      "Alternate air door\n",
      "A_C Documents\n",
      "Battery+Main bus\n",
      "Cabin doors\n",
      "Checked\n",
      "Circuit Breakers\n",
      "Closed\n",
      "Cockpit\n",
      "Cockpit checklist completed\n",
      "Completed\n",
      "decimal\n",
      "Flight Controls\n",
      "Fuel Quantity\n",
      "Fuel Selector\n",
      "Fuel Shutoff Valve\n",
      "Fuel Temperature\n",
      "in\n",
      "locked\n",
      "off\n",
      "On\n",
      "open\n",
      "preflight_inspection\n",
      "removed\n",
      "Seats & Belts\n",
      "Shut-off cabin heat\n",
      "sufficient\n",
      "Towbar\n",
      "Weight and balance\n"
     ]
    }
   ],
   "source": [
    "from scipy.io import wavfile\n",
    "\n",
    "data = []\n",
    "\n",
    "# first file desitination name and index\n",
    "file_name = '';\n",
    "word_spoken_index = 0;\n",
    "\n",
    "for n,file in enumerate(fpaths):\n",
    "    \n",
    "    # show current desintation \n",
    "    if (file.find(file_name)<=0):\n",
    "        file_name=word_spoken[word_spoken_index]\n",
    "        print(word_spoken[word_spoken_index])\n",
    "        word_spoken_index+=1\n",
    "\n",
    "    # read file \n",
    "    sampling_freq, audio = wavfile.read(file)\n",
    "    # Extract MFCC features\n",
    "    mfcc_features = mfcc(audio, sampling_freq)\n",
    "    data.insert(n,mfcc_features)\n"
   ]
  },
  {
   "cell_type": "code",
   "execution_count": 32,
   "metadata": {},
   "outputs": [
    {
     "name": "stdout",
     "output_type": "stream",
     "text": [
      "Number of files total: 21433\n",
      "Labels and label indices [33 33 33 ... 15 15 15]\n"
     ]
    }
   ],
   "source": [
    "#Each sample file is one row in data, and has one entry in labels\n",
    "print('Number of files total:', len(data))\n",
    "all_labels = np.zeros(len(data),dtype=int)\n",
    "for n, l in enumerate(set(labels)):\n",
    "    all_labels[np.array([i for i, _ in enumerate(labels) if _ == l])] = n\n",
    "print('Labels and label indices', all_labels)"
   ]
  },
  {
   "cell_type": "code",
   "execution_count": 1,
   "metadata": {},
   "outputs": [
    {
     "ename": "NameError",
     "evalue": "name 'np' is not defined",
     "output_type": "error",
     "traceback": [
      "\u001b[1;31m---------------------------------------------------------------------------\u001b[0m",
      "\u001b[1;31mNameError\u001b[0m                                 Traceback (most recent call last)",
      "\u001b[1;32m<ipython-input-1-9686bb76f8ab>\u001b[0m in \u001b[0;36m<module>\u001b[1;34m()\u001b[0m\n\u001b[1;32m----> 1\u001b[1;33m \u001b[0mtarget\u001b[0m \u001b[1;33m=\u001b[0m \u001b[0mnp\u001b[0m\u001b[1;33m.\u001b[0m\u001b[0mzeros\u001b[0m\u001b[1;33m(\u001b[0m\u001b[1;33m(\u001b[0m\u001b[0mlen\u001b[0m\u001b[1;33m(\u001b[0m\u001b[0mall_labels\u001b[0m\u001b[1;33m)\u001b[0m\u001b[1;33m,\u001b[0m\u001b[1;36m41\u001b[0m\u001b[1;33m)\u001b[0m\u001b[1;33m,\u001b[0m\u001b[0mdtype\u001b[0m\u001b[1;33m=\u001b[0m\u001b[0mint\u001b[0m\u001b[1;33m)\u001b[0m\u001b[1;33m\u001b[0m\u001b[0m\n\u001b[0m\u001b[0;32m      2\u001b[0m \u001b[1;32mfor\u001b[0m \u001b[0mi\u001b[0m\u001b[1;33m,\u001b[0m\u001b[0m_\u001b[0m \u001b[1;32min\u001b[0m \u001b[0menumerate\u001b[0m\u001b[1;33m(\u001b[0m\u001b[0mall_labels\u001b[0m\u001b[1;33m)\u001b[0m\u001b[1;33m:\u001b[0m\u001b[1;33m\u001b[0m\u001b[0m\n\u001b[0;32m      3\u001b[0m     \u001b[0mtarget\u001b[0m\u001b[1;33m[\u001b[0m\u001b[0mi\u001b[0m\u001b[1;33m]\u001b[0m\u001b[1;33m[\u001b[0m\u001b[0m_\u001b[0m\u001b[1;33m]\u001b[0m\u001b[1;33m=\u001b[0m\u001b[1;36m1\u001b[0m\u001b[1;33m\u001b[0m\u001b[0m\n",
      "\u001b[1;31mNameError\u001b[0m: name 'np' is not defined"
     ]
    }
   ],
   "source": [
    "target = np.zeros((len(all_labels),41),dtype=int)\n",
    "for i,_ in enumerate(all_labels):\n",
    "    target[i][_]=1"
   ]
  },
  {
   "cell_type": "code",
   "execution_count": 34,
   "metadata": {},
   "outputs": [
    {
     "name": "stdout",
     "output_type": "stream",
     "text": [
      "{0, 1, 2, 3, 4, 5, 6, 7, 8, 9, 10, 11, 12, 13, 14, 15, 16, 17, 18, 19, 20, 21, 22, 23, 24, 25, 26, 27, 28, 29, 30, 31, 32, 33, 34, 35, 36, 37, 38, 39, 40}\n"
     ]
    }
   ],
   "source": [
    "# get unique labesl\n",
    "unique_words = set(all_labels)\n",
    "print(unique_words)"
   ]
  },
  {
   "cell_type": "code",
   "execution_count": 153,
   "metadata": {},
   "outputs": [
    {
     "name": "stdout",
     "output_type": "stream",
     "text": [
      "Size of training matrix: (18218,)\n",
      "Size of testing matrix: (3215,)\n"
     ]
    }
   ],
   "source": [
    "x_data=np.array(data)\n",
    "from sklearn.model_selection import StratifiedShuffleSplit\n",
    "sss = StratifiedShuffleSplit(n_splits=10, test_size=0.15, random_state=0)\n",
    "\n",
    "for train_index, test_index in sss.split(x_data,target):\n",
    "    X_train, X_test = x_data[train_index], x_data[test_index]\n",
    "    Y_train, Y_test = target[train_index], target[test_index]\n",
    "    \n",
    "\n",
    "print('Size of training matrix:', X_train.shape)\n",
    "print('Size of testing matrix:', X_test.shape)"
   ]
  },
  {
   "cell_type": "code",
   "execution_count": 190,
   "metadata": {},
   "outputs": [],
   "source": [
    "model = Sequential()\n",
    "\n",
    "\n",
    "model.add(LSTM(200, return_sequences=True, input_shape=(None, 13)))\n",
    "model.add(LSTM(200, return_sequences=True))\n",
    "\n",
    "model.add(TimeDistributed(Dense(200, activation='relu')))\n",
    "\n",
    "model.add(Dense(41, activation='softmax'))\n",
    "\n",
    "model.compile(optimizer='adam', loss='categorical_crossentropy', metrics=['accuracy'])\n"
   ]
  },
  {
   "cell_type": "code",
   "execution_count": 191,
   "metadata": {},
   "outputs": [
    {
     "name": "stdout",
     "output_type": "stream",
     "text": [
      "_________________________________________________________________\n",
      "Layer (type)                 Output Shape              Param #   \n",
      "=================================================================\n",
      "lstm_49 (LSTM)               (None, None, 200)         171200    \n",
      "_________________________________________________________________\n",
      "lstm_50 (LSTM)               (None, None, 200)         320800    \n",
      "_________________________________________________________________\n",
      "time_distributed_11 (TimeDis (None, None, 200)         40200     \n",
      "_________________________________________________________________\n",
      "dense_38 (Dense)             (None, None, 41)          8241      \n",
      "=================================================================\n",
      "Total params: 540,441\n",
      "Trainable params: 540,441\n",
      "Non-trainable params: 0\n",
      "_________________________________________________________________\n"
     ]
    }
   ],
   "source": [
    "model.summary()"
   ]
  },
  {
   "cell_type": "code",
   "execution_count": 192,
   "metadata": {},
   "outputs": [],
   "source": [
    "from keras.utils import to_categorical\n",
    "def train_generator():\n",
    "    for i,_ in enumerate(X_train):\n",
    "        sequence_length = X_train[i].shape[0]\n",
    "        x_train = np.random.random((1, sequence_length, 13))\n",
    "        y_train = np.random.random((1, 1, 41))\n",
    "        # y_train will depend on past 5 timesteps of x\n",
    "        x_train[0]=X_train[i]\n",
    "        y_train[0]=Y_train[i]\n",
    "        yield x_train, y_train"
   ]
  },
  {
   "cell_type": "code",
   "execution_count": 193,
   "metadata": {},
   "outputs": [
    {
     "name": "stdout",
     "output_type": "stream",
     "text": [
      "Epoch 1/150\n",
      "70/70 [==============================] - 21s 306ms/step - loss: 3.6472 - acc: 0.0857\n",
      "Epoch 2/150\n",
      "70/70 [==============================] - 17s 245ms/step - loss: 3.4861 - acc: 0.0915\n",
      "Epoch 3/150\n",
      "70/70 [==============================] - 17s 247ms/step - loss: 3.5309 - acc: 0.1038\n",
      "Epoch 4/150\n",
      "70/70 [==============================] - 16s 231ms/step - loss: 3.3086 - acc: 0.1223\n",
      "Epoch 5/150\n",
      "70/70 [==============================] - 17s 241ms/step - loss: 3.0581 - acc: 0.1814\n",
      "Epoch 6/150\n",
      "70/70 [==============================] - 18s 252ms/step - loss: 3.2568 - acc: 0.1297\n",
      "Epoch 7/150\n",
      "70/70 [==============================] - 16s 231ms/step - loss: 2.6509 - acc: 0.2722\n",
      "Epoch 8/150\n",
      "70/70 [==============================] - 17s 244ms/step - loss: 2.5589 - acc: 0.2754\n",
      "Epoch 9/150\n",
      "70/70 [==============================] - 17s 241ms/step - loss: 2.4721 - acc: 0.3073\n",
      "Epoch 10/150\n",
      "70/70 [==============================] - 17s 246ms/step - loss: 2.5937 - acc: 0.2575\n",
      "Epoch 11/150\n",
      "70/70 [==============================] - 16s 233ms/step - loss: 2.1289 - acc: 0.3738\n",
      "Epoch 12/150\n",
      "70/70 [==============================] - 17s 248ms/step - loss: 2.2868 - acc: 0.3330\n",
      "Epoch 13/150\n",
      "70/70 [==============================] - 17s 244ms/step - loss: 2.1707 - acc: 0.3653\n",
      "Epoch 14/150\n",
      "70/70 [==============================] - 17s 238ms/step - loss: 2.0940 - acc: 0.3531\n",
      "Epoch 15/150\n",
      "70/70 [==============================] - 17s 239ms/step - loss: 1.9448 - acc: 0.3919\n",
      "Epoch 16/150\n",
      "70/70 [==============================] - 17s 246ms/step - loss: 1.9182 - acc: 0.4627\n",
      "Epoch 17/150\n",
      "70/70 [==============================] - 18s 261ms/step - loss: 1.8057 - acc: 0.4658\n",
      "Epoch 18/150\n",
      "70/70 [==============================] - 17s 242ms/step - loss: 1.8043 - acc: 0.4487\n",
      "Epoch 19/150\n",
      "70/70 [==============================] - 17s 247ms/step - loss: 1.4476 - acc: 0.5587\n",
      "Epoch 20/150\n",
      "70/70 [==============================] - 17s 245ms/step - loss: 1.7691 - acc: 0.4449\n",
      "Epoch 21/150\n",
      "70/70 [==============================] - 18s 260ms/step - loss: 1.6236 - acc: 0.4757\n",
      "Epoch 22/150\n",
      "70/70 [==============================] - 17s 236ms/step - loss: 1.6506 - acc: 0.5156\n",
      "Epoch 23/150\n",
      "70/70 [==============================] - 18s 256ms/step - loss: 1.5425 - acc: 0.5416\n",
      "Epoch 24/150\n",
      "70/70 [==============================] - 17s 246ms/step - loss: 1.5144 - acc: 0.5565\n",
      "Epoch 25/150\n",
      "70/70 [==============================] - 16s 228ms/step - loss: 1.4299 - acc: 0.5611\n",
      "Epoch 26/150\n",
      "70/70 [==============================] - 18s 263ms/step - loss: 1.3740 - acc: 0.5452\n",
      "Epoch 27/150\n",
      "70/70 [==============================] - 17s 237ms/step - loss: 1.0040 - acc: 0.6934\n",
      "Epoch 28/150\n",
      "70/70 [==============================] - 17s 248ms/step - loss: 0.9762 - acc: 0.6894\n",
      "Epoch 29/150\n",
      "70/70 [==============================] - 16s 229ms/step - loss: 0.9252 - acc: 0.6884\n",
      "Epoch 30/150\n",
      "70/70 [==============================] - 17s 243ms/step - loss: 1.2273 - acc: 0.5925\n",
      "Epoch 31/150\n",
      "70/70 [==============================] - 18s 254ms/step - loss: 1.2340 - acc: 0.6275\n",
      "Epoch 32/150\n",
      "70/70 [==============================] - 17s 240ms/step - loss: 1.2293 - acc: 0.6189\n",
      "Epoch 33/150\n",
      "70/70 [==============================] - 17s 244ms/step - loss: 1.1424 - acc: 0.6092\n",
      "Epoch 34/150\n",
      "70/70 [==============================] - 17s 248ms/step - loss: 1.1395 - acc: 0.6607\n",
      "Epoch 35/150\n",
      "70/70 [==============================] - 18s 250ms/step - loss: 1.1028 - acc: 0.6466\n",
      "Epoch 36/150\n",
      "70/70 [==============================] - 17s 248ms/step - loss: 1.1811 - acc: 0.6483\n",
      "Epoch 37/150\n",
      "70/70 [==============================] - 17s 244ms/step - loss: 0.9228 - acc: 0.6649\n",
      "Epoch 38/150\n",
      "70/70 [==============================] - 17s 247ms/step - loss: 0.8767 - acc: 0.7135\n",
      "Epoch 39/150\n",
      "70/70 [==============================] - 19s 273ms/step - loss: 1.0739 - acc: 0.6694\n",
      "Epoch 40/150\n",
      "70/70 [==============================] - 17s 249ms/step - loss: 1.3214 - acc: 0.5865\n",
      "Epoch 41/150\n",
      "70/70 [==============================] - 17s 247ms/step - loss: 1.1431 - acc: 0.5978\n",
      "Epoch 42/150\n",
      "70/70 [==============================] - 16s 226ms/step - loss: 1.1462 - acc: 0.6623\n",
      "Epoch 43/150\n",
      "70/70 [==============================] - 18s 253ms/step - loss: 1.0237 - acc: 0.6922\n",
      "Epoch 44/150\n",
      "70/70 [==============================] - 18s 252ms/step - loss: 0.9194 - acc: 0.7168\n",
      "Epoch 45/150\n",
      "70/70 [==============================] - 17s 243ms/step - loss: 1.2846 - acc: 0.5907\n",
      "Epoch 46/150\n",
      "70/70 [==============================] - 16s 230ms/step - loss: 0.7775 - acc: 0.7321\n",
      "Epoch 47/150\n",
      "70/70 [==============================] - 17s 238ms/step - loss: 1.1276 - acc: 0.6661\n",
      "Epoch 48/150\n",
      "70/70 [==============================] - 17s 248ms/step - loss: 0.9685 - acc: 0.7283\n",
      "Epoch 49/150\n",
      "70/70 [==============================] - 17s 236ms/step - loss: 0.8411 - acc: 0.7404\n",
      "Epoch 50/150\n",
      "70/70 [==============================] - 18s 259ms/step - loss: 0.7971 - acc: 0.7292\n",
      "Epoch 51/150\n",
      "70/70 [==============================] - 20s 279ms/step - loss: 0.8708 - acc: 0.7013\n",
      "Epoch 52/150\n",
      "70/70 [==============================] - 18s 260ms/step - loss: 0.9119 - acc: 0.6778\n",
      "Epoch 53/150\n",
      "70/70 [==============================] - 18s 261ms/step - loss: 0.9283 - acc: 0.6598\n",
      "Epoch 54/150\n",
      "70/70 [==============================] - 17s 238ms/step - loss: 0.6709 - acc: 0.7765\n",
      "Epoch 55/150\n",
      "70/70 [==============================] - 18s 251ms/step - loss: 1.0782 - acc: 0.6304\n",
      "Epoch 56/150\n",
      "70/70 [==============================] - 17s 247ms/step - loss: 0.8564 - acc: 0.7269\n",
      "Epoch 57/150\n",
      "70/70 [==============================] - 18s 258ms/step - loss: 0.8658 - acc: 0.7190\n",
      "Epoch 58/150\n",
      "70/70 [==============================] - 17s 241ms/step - loss: 0.6300 - acc: 0.7643\n",
      "Epoch 59/150\n",
      "70/70 [==============================] - 17s 242ms/step - loss: 1.0749 - acc: 0.6774\n",
      "Epoch 60/150\n",
      "70/70 [==============================] - 17s 236ms/step - loss: 0.7886 - acc: 0.7576\n",
      "Epoch 61/150\n",
      "70/70 [==============================] - 19s 267ms/step - loss: 0.8448 - acc: 0.7151\n",
      "Epoch 62/150\n",
      "70/70 [==============================] - 18s 251ms/step - loss: 1.0256 - acc: 0.6923\n",
      "Epoch 63/150\n",
      "70/70 [==============================] - 18s 255ms/step - loss: 0.7388 - acc: 0.7576\n",
      "Epoch 64/150\n",
      "70/70 [==============================] - 17s 246ms/step - loss: 0.7222 - acc: 0.7706\n",
      "Epoch 65/150\n",
      "70/70 [==============================] - 18s 254ms/step - loss: 0.8453 - acc: 0.7241\n",
      "Epoch 66/150\n",
      "70/70 [==============================] - 17s 240ms/step - loss: 0.7630 - acc: 0.7333\n",
      "Epoch 67/150\n",
      "70/70 [==============================] - 18s 256ms/step - loss: 0.8591 - acc: 0.7379\n",
      "Epoch 68/150\n",
      "70/70 [==============================] - 17s 246ms/step - loss: 0.8796 - acc: 0.7416\n",
      "Epoch 69/150\n",
      "70/70 [==============================] - 18s 252ms/step - loss: 0.9731 - acc: 0.7239\n",
      "Epoch 70/150\n",
      "70/70 [==============================] - 17s 245ms/step - loss: 0.7197 - acc: 0.7838\n",
      "Epoch 71/150\n",
      "70/70 [==============================] - 18s 258ms/step - loss: 0.7523 - acc: 0.7673\n",
      "Epoch 72/150\n",
      "70/70 [==============================] - 17s 246ms/step - loss: 0.7759 - acc: 0.7749\n",
      "Epoch 73/150\n",
      "70/70 [==============================] - 18s 258ms/step - loss: 0.9579 - acc: 0.6981\n",
      "Epoch 74/150\n",
      "70/70 [==============================] - 18s 264ms/step - loss: 0.9149 - acc: 0.7238\n",
      "Epoch 75/150\n",
      "70/70 [==============================] - 18s 251ms/step - loss: 0.8279 - acc: 0.74757s -\n",
      "Epoch 76/150\n",
      "70/70 [==============================] - 18s 258ms/step - loss: 0.6087 - acc: 0.7867\n",
      "Epoch 77/150\n",
      "70/70 [==============================] - 17s 250ms/step - loss: 0.6446 - acc: 0.7741\n",
      "Epoch 78/150\n",
      "70/70 [==============================] - 18s 258ms/step - loss: 0.7412 - acc: 0.7665\n",
      "Epoch 79/150\n",
      "70/70 [==============================] - 18s 263ms/step - loss: 0.5214 - acc: 0.8302\n",
      "Epoch 80/150\n",
      "70/70 [==============================] - 18s 251ms/step - loss: 0.8222 - acc: 0.7649\n",
      "Epoch 81/150\n",
      "70/70 [==============================] - 18s 261ms/step - loss: 0.5974 - acc: 0.7930\n",
      "Epoch 82/150\n",
      "70/70 [==============================] - 17s 236ms/step - loss: 0.7488 - acc: 0.7549\n",
      "Epoch 83/150\n",
      "70/70 [==============================] - 16s 230ms/step - loss: 0.6875 - acc: 0.7794\n",
      "Epoch 84/150\n",
      "70/70 [==============================] - 17s 247ms/step - loss: 0.7724 - acc: 0.7658\n",
      "Epoch 85/150\n",
      "70/70 [==============================] - 16s 233ms/step - loss: 0.6863 - acc: 0.7781\n",
      "Epoch 86/150\n",
      "70/70 [==============================] - 18s 254ms/step - loss: 0.5517 - acc: 0.8208\n",
      "Epoch 87/150\n",
      "70/70 [==============================] - 17s 239ms/step - loss: 0.5417 - acc: 0.8085\n",
      "Epoch 88/150\n",
      "70/70 [==============================] - 17s 240ms/step - loss: 0.6584 - acc: 0.80315s - lo\n",
      "Epoch 89/150\n",
      "70/70 [==============================] - 17s 236ms/step - loss: 0.6383 - acc: 0.7686\n",
      "Epoch 90/150\n",
      "70/70 [==============================] - 18s 251ms/step - loss: 0.8373 - acc: 0.7007\n",
      "Epoch 91/150\n",
      "70/70 [==============================] - 17s 237ms/step - loss: 0.9673 - acc: 0.7021\n",
      "Epoch 92/150\n",
      "70/70 [==============================] - 16s 228ms/step - loss: 0.7304 - acc: 0.7801\n",
      "Epoch 93/150\n",
      "70/70 [==============================] - 17s 244ms/step - loss: 0.5550 - acc: 0.8082\n",
      "Epoch 94/150\n",
      "70/70 [==============================] - 18s 253ms/step - loss: 0.7938 - acc: 0.76472s - loss: 0.7902 - a\n",
      "Epoch 95/150\n",
      "70/70 [==============================] - 17s 247ms/step - loss: 0.4861 - acc: 0.8271\n",
      "Epoch 96/150\n",
      "70/70 [==============================] - 17s 248ms/step - loss: 0.5205 - acc: 0.80525s - loss:\n",
      "Epoch 97/150\n",
      "70/70 [==============================] - 17s 243ms/step - loss: 0.5454 - acc: 0.8232\n",
      "Epoch 98/150\n",
      "70/70 [==============================] - 18s 253ms/step - loss: 0.6630 - acc: 0.8030\n",
      "Epoch 99/150\n",
      "70/70 [==============================] - 18s 256ms/step - loss: 0.6043 - acc: 0.7867\n",
      "Epoch 100/150\n",
      "70/70 [==============================] - 18s 250ms/step - loss: 0.7039 - acc: 0.7809\n",
      "Epoch 101/150\n",
      "70/70 [==============================] - 16s 232ms/step - loss: 0.5800 - acc: 0.7920\n",
      "Epoch 102/150\n",
      "70/70 [==============================] - 17s 237ms/step - loss: 0.4322 - acc: 0.8514\n",
      "Epoch 103/150\n",
      "70/70 [==============================] - 18s 256ms/step - loss: 0.6121 - acc: 0.7906\n",
      "Epoch 104/150\n",
      "70/70 [==============================] - 17s 241ms/step - loss: 0.5108 - acc: 0.8382\n",
      "Epoch 105/150\n",
      "70/70 [==============================] - 19s 270ms/step - loss: 0.6611 - acc: 0.7587\n",
      "Epoch 106/150\n",
      "70/70 [==============================] - 18s 255ms/step - loss: 0.6038 - acc: 0.8012\n",
      "Epoch 107/150\n",
      "70/70 [==============================] - 18s 250ms/step - loss: 0.7871 - acc: 0.7404\n",
      "Epoch 108/150\n",
      "70/70 [==============================] - 17s 242ms/step - loss: 0.7193 - acc: 0.7461\n",
      "Epoch 109/150\n",
      "70/70 [==============================] - 18s 250ms/step - loss: 0.7670 - acc: 0.7571\n",
      "Epoch 110/150\n",
      "70/70 [==============================] - 18s 255ms/step - loss: 0.4110 - acc: 0.8588\n",
      "Epoch 111/150\n",
      "70/70 [==============================] - 18s 261ms/step - loss: 0.5007 - acc: 0.8292\n",
      "Epoch 112/150\n",
      "70/70 [==============================] - 18s 255ms/step - loss: 0.5922 - acc: 0.7973\n",
      "Epoch 113/150\n",
      "70/70 [==============================] - 17s 245ms/step - loss: 0.4418 - acc: 0.8533\n",
      "Epoch 114/150\n",
      "70/70 [==============================] - 17s 238ms/step - loss: 0.7835 - acc: 0.7649\n",
      "Epoch 115/150\n",
      "70/70 [==============================] - 17s 248ms/step - loss: 0.5488 - acc: 0.8235\n",
      "Epoch 116/150\n",
      "70/70 [==============================] - 18s 257ms/step - loss: 0.5567 - acc: 0.8322\n",
      "Epoch 117/150\n",
      "70/70 [==============================] - 18s 251ms/step - loss: 0.6528 - acc: 0.8299\n",
      "Epoch 118/150\n",
      "70/70 [==============================] - 17s 241ms/step - loss: 0.6783 - acc: 0.7732\n",
      "Epoch 119/150\n",
      "70/70 [==============================] - 17s 243ms/step - loss: 0.6331 - acc: 0.7884\n",
      "Epoch 120/150\n",
      "70/70 [==============================] - 17s 244ms/step - loss: 0.5738 - acc: 0.8040\n",
      "Epoch 121/150\n",
      "70/70 [==============================] - 16s 235ms/step - loss: 0.6098 - acc: 0.8005\n",
      "Epoch 122/150\n",
      "70/70 [==============================] - 16s 230ms/step - loss: 0.5146 - acc: 0.8405\n",
      "Epoch 123/150\n",
      "70/70 [==============================] - 18s 253ms/step - loss: 0.6105 - acc: 0.7994\n",
      "Epoch 124/150\n",
      "70/70 [==============================] - 17s 243ms/step - loss: 0.5927 - acc: 0.7956\n",
      "Epoch 125/150\n",
      "70/70 [==============================] - 17s 248ms/step - loss: 0.5020 - acc: 0.8312\n",
      "Epoch 126/150\n",
      "70/70 [==============================] - 18s 254ms/step - loss: 0.6434 - acc: 0.8181\n",
      "Epoch 127/150\n",
      "70/70 [==============================] - 17s 240ms/step - loss: 0.5419 - acc: 0.8165\n",
      "Epoch 128/150\n",
      "70/70 [==============================] - 17s 242ms/step - loss: 0.7041 - acc: 0.7655\n",
      "Epoch 129/150\n",
      "70/70 [==============================] - 17s 236ms/step - loss: 0.7362 - acc: 0.7397\n",
      "Epoch 130/150\n",
      "70/70 [==============================] - 16s 233ms/step - loss: 0.6285 - acc: 0.7954\n",
      "Epoch 131/150\n",
      "70/70 [==============================] - 16s 229ms/step - loss: 0.5786 - acc: 0.8391\n",
      "Epoch 132/150\n",
      "70/70 [==============================] - 17s 237ms/step - loss: 0.5187 - acc: 0.8370\n",
      "Epoch 133/150\n",
      "70/70 [==============================] - 18s 262ms/step - loss: 0.6154 - acc: 0.7820\n",
      "Epoch 134/150\n",
      "70/70 [==============================] - 17s 238ms/step - loss: 0.5666 - acc: 0.8187\n",
      "Epoch 135/150\n",
      "70/70 [==============================] - 18s 255ms/step - loss: 0.4915 - acc: 0.8330\n",
      "Epoch 136/150\n",
      "70/70 [==============================] - 18s 253ms/step - loss: 0.6075 - acc: 0.7982\n",
      "Epoch 137/150\n",
      "70/70 [==============================] - 17s 236ms/step - loss: 0.4386 - acc: 0.8540\n",
      "Epoch 138/150\n",
      "70/70 [==============================] - 17s 242ms/step - loss: 0.6187 - acc: 0.7987\n",
      "Epoch 139/150\n",
      "70/70 [==============================] - 16s 235ms/step - loss: 0.5187 - acc: 0.8263\n",
      "Epoch 140/150\n",
      "70/70 [==============================] - 17s 237ms/step - loss: 0.6092 - acc: 0.8165\n",
      "Epoch 141/150\n",
      "70/70 [==============================] - 17s 246ms/step - loss: 0.5096 - acc: 0.8516\n",
      "Epoch 142/150\n",
      "70/70 [==============================] - 17s 237ms/step - loss: 0.3852 - acc: 0.8718\n",
      "Epoch 143/150\n",
      "70/70 [==============================] - 17s 248ms/step - loss: 0.6303 - acc: 0.8168\n",
      "Epoch 144/150\n",
      "70/70 [==============================] - 18s 254ms/step - loss: 0.3956 - acc: 0.8560\n",
      "Epoch 145/150\n",
      "70/70 [==============================] - 18s 255ms/step - loss: 0.7919 - acc: 0.7463\n",
      "Epoch 146/150\n",
      "70/70 [==============================] - 18s 259ms/step - loss: 0.6385 - acc: 0.7882\n",
      "Epoch 147/150\n",
      "70/70 [==============================] - 18s 257ms/step - loss: 0.5034 - acc: 0.8131\n",
      "Epoch 148/150\n",
      "70/70 [==============================] - 17s 242ms/step - loss: 0.5764 - acc: 0.8198\n",
      "Epoch 149/150\n",
      "70/70 [==============================] - 18s 253ms/step - loss: 0.6780 - acc: 0.8031\n",
      "Epoch 150/150\n",
      "70/70 [==============================] - 17s 247ms/step - loss: 0.5017 - acc: 0.8345\n"
     ]
    },
    {
     "data": {
      "text/plain": [
       "<keras.callbacks.History at 0x1c5d957f160>"
      ]
     },
     "execution_count": 193,
     "metadata": {},
     "output_type": "execute_result"
    }
   ],
   "source": [
    "model.fit_generator(train_generator(), steps_per_epoch=70, epochs=150, verbose=1)"
   ]
  },
  {
   "cell_type": "code",
   "execution_count": null,
   "metadata": {},
   "outputs": [],
   "source": [
    "# model.fit(X_train, y_train, epochs=50, batch_size=20,validation_split=0.2)"
   ]
  },
  {
   "cell_type": "code",
   "execution_count": 381,
   "metadata": {},
   "outputs": [
    {
     "data": {
      "text/plain": [
       "(1, 3)"
      ]
     },
     "execution_count": 381,
     "metadata": {},
     "output_type": "execute_result"
    }
   ],
   "source": [
    "count=0\n",
    "for i,_ in enumerate(data):\n",
    "    if data[i].shape[1]>2600:\n",
    "        test_data=data[i]\n",
    "        count+=1    \n",
    "data[0].shape"
   ]
  },
  {
   "cell_type": "code",
   "execution_count": 382,
   "metadata": {},
   "outputs": [],
   "source": [
    "idx = np.random.choice(np.arange(test_data.shape[1]), median_mfcc, replace=False)\n",
    "idx=np.sort(idx)\n",
    "y_data=np.array(test_data[0,idx])"
   ]
  },
  {
   "cell_type": "code",
   "execution_count": 384,
   "metadata": {},
   "outputs": [
    {
     "data": {
      "text/plain": [
       "(1180,)"
      ]
     },
     "execution_count": 384,
     "metadata": {},
     "output_type": "execute_result"
    }
   ],
   "source": [
    "y_data.shape"
   ]
  },
  {
   "cell_type": "code",
   "execution_count": 386,
   "metadata": {},
   "outputs": [
    {
     "name": "stderr",
     "output_type": "stream",
     "text": [
      "C:\\Users\\Anar\\Anaconda3\\lib\\site-packages\\scipy\\signal\\signaltools.py:2223: FutureWarning: Using a non-tuple sequence for multidimensional indexing is deprecated; use `arr[tuple(seq)]` instead of `arr[seq]`. In the future this will be interpreted as an array index, `arr[np.array(seq)]`, which will result either in an error or a different result.\n",
      "  Y[sl] = X[sl]\n",
      "C:\\Users\\Anar\\Anaconda3\\lib\\site-packages\\scipy\\signal\\signaltools.py:2225: FutureWarning: Using a non-tuple sequence for multidimensional indexing is deprecated; use `arr[tuple(seq)]` instead of `arr[seq]`. In the future this will be interpreted as an array index, `arr[np.array(seq)]`, which will result either in an error or a different result.\n",
      "  Y[sl] = X[sl]\n",
      "C:\\Users\\Anar\\Anaconda3\\lib\\site-packages\\scipy\\signal\\signaltools.py:2233: FutureWarning: Using a non-tuple sequence for multidimensional indexing is deprecated; use `arr[tuple(seq)]` instead of `arr[seq]`. In the future this will be interpreted as an array index, `arr[np.array(seq)]`, which will result either in an error or a different result.\n",
      "  Y[sl] /= 2  # halve the component at -N/2\n",
      "C:\\Users\\Anar\\Anaconda3\\lib\\site-packages\\scipy\\signal\\signaltools.py:2234: FutureWarning: Using a non-tuple sequence for multidimensional indexing is deprecated; use `arr[tuple(seq)]` instead of `arr[seq]`. In the future this will be interpreted as an array index, `arr[np.array(seq)]`, which will result either in an error or a different result.\n",
      "  temp = Y[sl]\n",
      "C:\\Users\\Anar\\Anaconda3\\lib\\site-packages\\scipy\\signal\\signaltools.py:2236: FutureWarning: Using a non-tuple sequence for multidimensional indexing is deprecated; use `arr[tuple(seq)]` instead of `arr[seq]`. In the future this will be interpreted as an array index, `arr[np.array(seq)]`, which will result either in an error or a different result.\n",
      "  Y[sl] = temp  # set that equal to the component at -N/2\n"
     ]
    }
   ],
   "source": [
    "# len(data[21000][0]\n",
    "x = np.linspace(0, median_mfcc, median_mfcc, endpoint=False)\n",
    "x_values=np.linspace(0, test_data.shape[1], test_data.shape[1], endpoint=False)\n",
    "y=y_data[:]\n",
    "xnew = np.linspace(0, median_mfcc, test_data.shape[1], endpoint=False)\n",
    "f=signal.resample(y, test_data.shape[1])\n"
   ]
  },
  {
   "cell_type": "code",
   "execution_count": 387,
   "metadata": {},
   "outputs": [
    {
     "data": {
      "image/png": "[encoded data removed]",
      "text/plain": [
       "<Figure size 432x288 with 1 Axes>"
      ]
     },
     "metadata": {},
     "output_type": "display_data"
    },
    {
     "data": {
      "image/png": "[encoded data removed]",
      "text/plain": [
       "<Figure size 432x288 with 1 Axes>"
      ]
     },
     "metadata": {},
     "output_type": "display_data"
    },
    {
     "data": {
      "image/png": "[encoded data removed]",
      "text/plain": [
       "<Figure size 432x288 with 1 Axes>"
      ]
     },
     "metadata": {},
     "output_type": "display_data"
    }
   ],
   "source": [
    "plt.plot(x_values, test_data[0][:], color='black')\n",
    "plt.xlabel('series')\n",
    "plt.ylabel('mffc value')\n",
    "plt.title('original mffc features of a wav')\n",
    "plt.show()\n",
    "\n",
    "plt.plot(x, y, color='black')\n",
    "plt.xlabel('series')\n",
    "plt.ylabel('mffc value')\n",
    "plt.title('mffc array reduced to fixed size (to median of all mfcc)')\n",
    "plt.show()\n",
    "\n",
    "\n",
    "plt.plot(xnew, f, color='black')\n",
    "plt.xlabel('series')\n",
    "plt.ylabel('mffc value')\n",
    "plt.title('(fianl) mfcc fixed and resampled to same point with original')\n",
    "plt.show()"
   ]
  },
  {
   "cell_type": "code",
   "execution_count": 358,
   "metadata": {},
   "outputs": [
    {
     "data": {
      "text/plain": [
       "(494,)"
      ]
     },
     "execution_count": 358,
     "metadata": {},
     "output_type": "execute_result"
    }
   ],
   "source": [
    "f.shape"
   ]
  },
  {
   "cell_type": "code",
   "execution_count": 374,
   "metadata": {},
   "outputs": [
    {
     "data": {
      "text/plain": [
       "4499"
      ]
     },
     "execution_count": 374,
     "metadata": {},
     "output_type": "execute_result"
    }
   ],
   "source": [
    "count=0\n",
    "for i,_ in enumerate(data):\n",
    "    if data[i].shape[1]<800:\n",
    "        test_data=data[i]\n",
    "        count+=1\n",
    "count"
   ]
  },
  {
   "cell_type": "code",
   "execution_count": 372,
   "metadata": {},
   "outputs": [],
   "source": [
    "def replicate_up(test_data):\n",
    "    a=np.zeros(median_mfcc)\n",
    "    a[:]=np.nan\n",
    "    a[0:test_data.shape[1]]=test_data\n",
    "    \n",
    "    # replicate \n",
    "    n=len(a)\n",
    "    p=n-np.isnan(a).sum() # count of valids assuming nan's at the end.\n",
    "    repeats=n//p\n",
    "    m=n-repeats*p # number of overfilled.\n",
    "    q=m*(repeats+1) #border\n",
    "    a[q:]=a[m:p].repeat(repeats) #the end\n",
    "    a[:q]=a[:m].repeat(repeats+1) #the beginning\n",
    "    \n",
    "    return np.array([a])"
   ]
  },
  {
   "cell_type": "code",
   "execution_count": 366,
   "metadata": {},
   "outputs": [],
   "source": [
    "a=np.zeros(median_mfcc)\n",
    "a[:]=np.nan\n",
    "a[0:test_data.shape[1]]=test_data"
   ]
  },
  {
   "cell_type": "code",
   "execution_count": 367,
   "metadata": {},
   "outputs": [],
   "source": [
    "n=len(a)\n",
    "p=n-np.isnan(a).sum() # count of valids assuming nan's at the end.\n",
    "repeats=n//p\n",
    "m=n-repeats*p # number of overfilled.\n",
    "q=m*(repeats+1) #border\n",
    "a[q:]=a[m:p].repeat(repeats) #the end\n",
    "a[:q]=a[:m].repeat(repeats+1) #the beginning\n",
    "new_test_data=np.array([a])"
   ]
  },
  {
   "cell_type": "code",
   "execution_count": 375,
   "metadata": {},
   "outputs": [],
   "source": [
    "v=replicate_up(test_data)"
   ]
  },
  {
   "cell_type": "code",
   "execution_count": 380,
   "metadata": {},
   "outputs": [
    {
     "data": {
      "text/plain": [
       "(1, 1180)"
      ]
     },
     "execution_count": 380,
     "metadata": {},
     "output_type": "execute_result"
    }
   ],
   "source": [
    "v.shape"
   ]
  },
  {
   "cell_type": "code",
   "execution_count": 350,
   "metadata": {},
   "outputs": [],
   "source": [
    "xnew=np.linspace(0, median_mfcc, median_mfcc, endpoint=False)\n",
    "ynew=new_test_data[0][:]\n",
    "x_real=np.linspace(0, test_data.shape[1], test_data.shape[1], endpoint=False)\n",
    "y_real=test_data[0][:]"
   ]
  },
  {
   "cell_type": "code",
   "execution_count": 351,
   "metadata": {},
   "outputs": [
    {
     "data": {
      "image/png": "[encoded data removed]",
      "text/plain": [
       "<Figure size 432x288 with 1 Axes>"
      ]
     },
     "metadata": {},
     "output_type": "display_data"
    },
    {
     "data": {
      "image/png": "[encoded data removed]",
      "text/plain": [
       "<Figure size 432x288 with 1 Axes>"
      ]
     },
     "metadata": {},
     "output_type": "display_data"
    }
   ],
   "source": [
    "plt.plot(x_real, y_real, color='black')\n",
    "plt.xlabel('series')\n",
    "plt.ylabel('mffc value')\n",
    "plt.title('original mffc features of a wav')\n",
    "plt.show()\n",
    "\n",
    "plt.plot(xnew, ynew, color='black')\n",
    "plt.xlabel('series')\n",
    "plt.ylabel('mffc value')\n",
    "plt.title('mffc array upsampled (replaced)')\n",
    "plt.show()\n"
   ]
  },
  {
   "cell_type": "markdown",
   "metadata": {},
   "source": [
    "#### Get Labels"
   ]
  },
  {
   "cell_type": "code",
   "execution_count": 4,
   "metadata": {},
   "outputs": [
    {
     "name": "stdout",
     "output_type": "stream",
     "text": [
      "Number of files total: 21433\n",
      "Labels and label indices [16 16 16 ... 33 33 33]\n"
     ]
    }
   ],
   "source": [
    "label_idx_dic={} # dict for storing labels\n",
    "\n",
    "#Each sample file is one row in data, and has one entry in labels\n",
    "print('Number of files total:', len(data))\n",
    "all_labels = np.zeros(len(data),dtype=int)\n",
    "for n, l in enumerate(set(labels)):\n",
    "    label_idx_dic[n]=l\n",
    "    all_labels[np.array([i for i, _ in enumerate(labels) if _ == l])] = n\n",
    "print('Labels and label indices', all_labels)"
   ]
  },
  {
   "cell_type": "code",
   "execution_count": 16,
   "metadata": {},
   "outputs": [],
   "source": [
    "# save label dictionary\n",
    "def save_dict_to_file(dic):\n",
    "    f = open('dict.txt','w')\n",
    "    f.write(str(dic))\n",
    "    f.close()\n",
    "\n",
    "# load label dictionary\n",
    "def load_dict_from_file():\n",
    "    f = open('dict.txt','r')\n",
    "    data=f.read()\n",
    "    f.close()\n",
    "    return eval(data)\n",
    "\n",
    "# save dict\n",
    "save_dict_to_file(label_idx_dic)\n",
    "\n",
    "# read dict\n",
    "label_idx_dic = load_dict_from_file()"
   ]
  },
  {
   "cell_type": "code",
   "execution_count": 17,
   "metadata": {},
   "outputs": [
    {
     "data": {
      "text/plain": [
       "{0: 'decimal',\n",
       " 1: 'Seats & Belts',\n",
       " 2: '8_eight',\n",
       " 3: 'locked',\n",
       " 4: 'Cabin doors',\n",
       " 5: '6_six',\n",
       " 6: 'Shut-off cabin heat',\n",
       " 7: 'Closed',\n",
       " 8: 'Checked',\n",
       " 9: '0_zero',\n",
       " 10: 'in',\n",
       " 11: 'Completed',\n",
       " 12: '2_two',\n",
       " 13: '3_three',\n",
       " 14: '5_five',\n",
       " 15: '7_seven',\n",
       " 16: 'Fuel Shutoff Valve',\n",
       " 17: 'Fuel Temperature',\n",
       " 18: 'preflight_inspection',\n",
       " 19: '1_one',\n",
       " 20: 'sufficient',\n",
       " 21: 'off',\n",
       " 22: 'Cockpit',\n",
       " 23: 'On',\n",
       " 24: '4_four',\n",
       " 25: 'Battery+Main bus',\n",
       " 26: 'Weight and balance',\n",
       " 27: 'Flight Controls',\n",
       " 28: '9_nine',\n",
       " 29: 'Fuel Quantity',\n",
       " 30: 'Fuel Selector',\n",
       " 31: 'Cockpit checklist completed',\n",
       " 32: 'aboard',\n",
       " 33: 'open',\n",
       " 34: 'removed',\n",
       " 35: 'adjusted & locked',\n",
       " 36: 'Circuit Breakers',\n",
       " 37: 'All switches',\n",
       " 38: 'Alternate air door',\n",
       " 39: 'A_C Documents',\n",
       " 40: 'Towbar'}"
      ]
     },
     "execution_count": 17,
     "metadata": {},
     "output_type": "execute_result"
    }
   ],
   "source": [
    "print(label_idx_dic)"
   ]
  },
  {
   "cell_type": "markdown",
   "metadata": {},
   "source": [
    "#### Pad Zeros to Small Arrays"
   ]
  },
  {
   "cell_type": "code",
   "execution_count": 9,
   "metadata": {},
   "outputs": [],
   "source": [
    "x_data = np.zeros((len(data),mfcc_max_length+1), dtype=float)\n",
    "\n",
    "for i,_d in enumerate(data):\n",
    "    x_data[i,1:_d.shape[1]+1]=_d\n",
    "    x_data[i,0]=all_labels[i]"
   ]
  },
  {
   "cell_type": "code",
   "execution_count": 11,
   "metadata": {},
   "outputs": [],
   "source": [
    "# save all features data\n",
    "np.savetxt('data.csv', x_data, delimiter=',')"
   ]
  },
  {
   "cell_type": "code",
   "execution_count": 7,
   "metadata": {},
   "outputs": [
    {
     "data": {
      "text/plain": [
       "['0: 0', '1: 1', '2: 2', '3: 3', '4: 4']"
      ]
     },
     "execution_count": 7,
     "metadata": {},
     "output_type": "execute_result"
    }
   ],
   "source": [
    "labels=['{}: {}'.format(i,i) for i in range(5)]\n",
    "labels"
   ]
  },
  {
   "cell_type": "code",
   "execution_count": 21,
   "metadata": {},
   "outputs": [],
   "source": [
    "labels=['{}: {}'.format(4,4),'{}: {}'.format(4,4)]"
   ]
  },
  {
   "cell_type": "code",
   "execution_count": 22,
   "metadata": {},
   "outputs": [
    {
     "data": {
      "text/plain": [
       "['4: 4', '4: 4']"
      ]
     },
     "execution_count": 22,
     "metadata": {},
     "output_type": "execute_result"
    }
   ],
   "source": [
    "labels"
   ]
  },
  {
   "cell_type": "code",
   "execution_count": null,
   "metadata": {},
   "outputs": [],
   "source": []
  }
 ],
 "metadata": {
  "kernelspec": {
   "display_name": "Python 3",
   "language": "python",
   "name": "python3"
  },
  "language_info": {
   "codemirror_mode": {
    "name": "ipython",
    "version": 3
   },
   "file_extension": ".py",
   "mimetype": "text/x-python",
   "name": "python",
   "nbconvert_exporter": "python",
   "pygments_lexer": "ipython3",
   "version": "3.6.5"
  }
 },
 "nbformat": 4,
 "nbformat_minor": 2
}
