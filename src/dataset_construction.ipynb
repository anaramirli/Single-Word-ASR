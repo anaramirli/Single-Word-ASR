{
 "cells": [
  {
   "cell_type": "code",
   "execution_count": 1,
   "metadata": {},
   "outputs": [
    {
     "name": "stderr",
     "output_type": "stream",
     "text": [
      "Using TensorFlow backend.\n"
     ]
    }
   ],
   "source": [
    "import numpy as np\n",
    "import os\n",
    "from scipy.io import wavfile\n",
    "from python_speech_features import mfcc, logfbank\n",
    "import matplotlib.pyplot as plt\n",
    "import pickle\n",
    "from sklearn.metrics import confusion_matrix\n",
    "from sklearn.preprocessing import StandardScaler\n",
    "from keras.layers import LSTM, Dense, TimeDistributed\n",
    "from sklearn.neural_network import MLPClassifier\n",
    "from sklearn import preprocessing\n",
    "from keras.layers import Input, Dense\n",
    "from keras.models import Model\n",
    "%matplotlib inline\n",
    "import pandas as pd\n",
    "from keras.models import Sequential\n",
    "\n",
    "from utils import *"
   ]
  },
  {
   "cell_type": "markdown",
   "metadata": {},
   "source": [
    "#### Get data"
   ]
  },
  {
   "cell_type": "code",
   "execution_count": 67,
   "metadata": {},
   "outputs": [
    {
     "name": "stdout",
     "output_type": "stream",
     "text": [
      "Spoken words: ['0_zero', '1_one', '2_two', '3_three', '4_four', '5_five', '6_six', '7_seven', '8_eight', '9_nine', 'aboard', 'adjusted & locked', 'All switches', 'Alternate air door', 'A_C Documents', 'Battery+Main bus', 'Cabin doors', 'Checked', 'Circuit breakers', 'Cockpit', 'Cockpit cheklist completed', 'Completed', 'Decimal', 'Flight Controls', 'Fuel Quantity', 'Fuel Selector', 'Fuel Shutoff Valve', 'Fuel Temperature', 'in', 'locked', 'off', 'On', 'open', 'preflight inspection', 'removed', 'Seats & Belts', 'Shut-off cabin heat', 'sufficient', 'Towbar', 'Weight and balance']\n"
     ]
    }
   ],
   "source": [
    "# dataset\n",
    "dataset='ADA'\n",
    "\n",
    "fpaths = []\n",
    "labels = []\n",
    "boy_fpaths = []\n",
    "boy_labels = []\n",
    "\n",
    "word_spoken = []\n",
    "\n",
    "dataset = '41{}'.format(dataset)\n",
    "input_folder = '..\\data\\{}'.format(dataset)\n",
    "\n",
    "# pars the input directory that contains audio files\n",
    "# get audio files and their lables\n",
    "\n",
    "for f in os.listdir(input_folder):\n",
    "    for w in os.listdir(input_folder+'\\\\'+ f):\n",
    "        # check wheter files is wav or not\n",
    "        \n",
    "        \n",
    "        \n",
    "        if (w.find('wav')!=-1 and w.find('closed')==-1):\n",
    "        \n",
    "            idx_schunk=w.find('schunk')\n",
    "            idx_chunk=w.find('chunk')\n",
    "            \n",
    "            if (idx_chunk!=idx_schunk==-1):\n",
    "                if (int(w[idx_chunk-2:idx_chunk])<80):\n",
    "                    fpaths.append(input_folder+'\\\\'+f+'\\\\'+w)\n",
    "                    labels.append(f)\n",
    "                    \n",
    "                else:\n",
    "                    boy_fpaths.append(input_folder+'\\\\'+f+'\\\\'+w)\n",
    "                    boy_labels.append(f)\n",
    "                \n",
    "            else:\n",
    "                boy_fpaths.append(input_folder+'\\\\'+f+'\\\\'+w)\n",
    "                boy_labels.append(f)\n",
    "\n",
    "                \n",
    "            if f not in word_spoken:\n",
    "                word_spoken.append(f)\n",
    "print(\"Spoken words: \"+ str(word_spoken))"
   ]
  },
  {
   "cell_type": "code",
   "execution_count": 68,
   "metadata": {},
   "outputs": [
    {
     "name": "stdout",
     "output_type": "stream",
     "text": [
      "7108\n"
     ]
    }
   ],
   "source": [
    "# size of dataset\n",
    "print(len(labels))"
   ]
  },
  {
   "cell_type": "code",
   "execution_count": 69,
   "metadata": {},
   "outputs": [
    {
     "name": "stdout",
     "output_type": "stream",
     "text": [
      "1969\n"
     ]
    }
   ],
   "source": [
    "print(len(boy_labels))"
   ]
  },
  {
   "cell_type": "code",
   "execution_count": 70,
   "metadata": {},
   "outputs": [],
   "source": [
    "# girls\n",
    "label_set=list(set(labels))\n",
    "label_set.sort()\n",
    "\n",
    "# boys \n",
    "boy_label_set=list(set(boy_labels))\n",
    "boy_label_set.sort()"
   ]
  },
  {
   "cell_type": "code",
   "execution_count": 71,
   "metadata": {},
   "outputs": [
    {
     "data": {
      "text/plain": [
       "['0_zero',\n",
       " '1_one',\n",
       " '2_two',\n",
       " '3_three',\n",
       " '4_four',\n",
       " '5_five',\n",
       " '6_six',\n",
       " '7_seven',\n",
       " '8_eight',\n",
       " '9_nine',\n",
       " 'A_C Documents',\n",
       " 'All switches',\n",
       " 'Alternate air door',\n",
       " 'Battery+Main bus',\n",
       " 'Cabin doors',\n",
       " 'Checked',\n",
       " 'Circuit breakers',\n",
       " 'Cockpit',\n",
       " 'Cockpit cheklist completed',\n",
       " 'Completed',\n",
       " 'Decimal',\n",
       " 'Flight Controls',\n",
       " 'Fuel Quantity',\n",
       " 'Fuel Selector',\n",
       " 'Fuel Shutoff Valve',\n",
       " 'Fuel Temperature',\n",
       " 'On',\n",
       " 'Seats & Belts',\n",
       " 'Shut-off cabin heat',\n",
       " 'Towbar',\n",
       " 'Weight and balance',\n",
       " 'aboard',\n",
       " 'adjusted & locked',\n",
       " 'in',\n",
       " 'locked',\n",
       " 'off',\n",
       " 'open',\n",
       " 'preflight inspection',\n",
       " 'removed',\n",
       " 'sufficient']"
      ]
     },
     "execution_count": 71,
     "metadata": {},
     "output_type": "execute_result"
    }
   ],
   "source": [
    "label_set"
   ]
  },
  {
   "cell_type": "markdown",
   "metadata": {},
   "source": [
    "## Extracting frequeny domain features\n",
    "\n",
    "At the second stage we convet a signal into the freqency domain. In monst modern speech recognitoon freqeency-domain features are used as key component. In case of multispeakers MFFC feature extraction works best. After convert a signal into a freq domain, it's requered to convert it into a useable form. **Mel Frequency Cepstral Coefficients (MFCC)** is a good way to do that. *MFCC* takes the power spectrum of a signal and then uses a combination of filter banks and disrete cosinetransform to extract pattern of phones or features.\n",
    "\n",
    "After extracting **MFFC** features we exract data into single data matrix, and a label vector with the correct label for eac data file is ceated. "
   ]
  },
  {
   "cell_type": "code",
   "execution_count": 72,
   "metadata": {},
   "outputs": [],
   "source": [
    "from scipy.io import wavfile\n",
    "\n",
    "def get_mfcc(fpaths):\n",
    "    data = []\n",
    "\n",
    "    mfcc_max_length = 0\n",
    "\n",
    "    # first file desitination name and index\n",
    "    file_name = ''\n",
    "    word_spoken_index = 0\n",
    "\n",
    "    for n,file in enumerate(fpaths):\n",
    "\n",
    "        # show current desintation \n",
    "        if (file.find(file_name)<=0):\n",
    "            file_name=word_spoken[word_spoken_index]\n",
    "            print(word_spoken[word_spoken_index])\n",
    "            word_spoken_index+=1\n",
    "\n",
    "        # read file \n",
    "        sampling_freq, audio = wavfile.read(file)\n",
    "        # Extract MFCC features\n",
    "        mfcc_features = mfcc(audio, sampling_freq)\n",
    "\n",
    "        mfcc_len=mfcc_features.shape[0]*mfcc_features.shape[1]\n",
    "        # get length of largets feature array\n",
    "        if mfcc_len>mfcc_max_length:    \n",
    "            mfcc_max_length=mfcc_len\n",
    "\n",
    "\n",
    "        # flat data into 2D array\n",
    "        mfcc_features=np.resize(mfcc_features,(1,mfcc_len))\n",
    "\n",
    "        data.insert(n,mfcc_features)\n",
    "        \n",
    "    return data"
   ]
  },
  {
   "cell_type": "code",
   "execution_count": 73,
   "metadata": {},
   "outputs": [
    {
     "name": "stdout",
     "output_type": "stream",
     "text": [
      "0_zero\n",
      "1_one\n",
      "2_two\n",
      "3_three\n",
      "4_four\n",
      "5_five\n",
      "6_six\n",
      "7_seven\n",
      "8_eight\n",
      "9_nine\n",
      "aboard\n",
      "adjusted & locked\n",
      "All switches\n",
      "Alternate air door\n",
      "A_C Documents\n",
      "Battery+Main bus\n",
      "Cabin doors\n",
      "Checked\n",
      "Circuit breakers\n",
      "Cockpit\n",
      "Cockpit cheklist completed\n",
      "Completed\n",
      "Decimal\n",
      "Flight Controls\n",
      "Fuel Quantity\n",
      "Fuel Selector\n",
      "Fuel Shutoff Valve\n",
      "Fuel Temperature\n",
      "in\n",
      "locked\n",
      "off\n",
      "On\n",
      "open\n",
      "preflight inspection\n",
      "removed\n",
      "Seats & Belts\n",
      "Shut-off cabin heat\n",
      "sufficient\n",
      "Towbar\n",
      "Weight and balance\n",
      "0_zero\n",
      "1_one\n",
      "2_two\n",
      "3_three\n",
      "4_four\n",
      "5_five\n",
      "6_six\n",
      "7_seven\n",
      "8_eight\n",
      "9_nine\n",
      "aboard\n",
      "adjusted & locked\n",
      "All switches\n",
      "Alternate air door\n",
      "A_C Documents\n",
      "Battery+Main bus\n",
      "Cabin doors\n",
      "Checked\n",
      "Circuit breakers\n",
      "Cockpit\n",
      "Cockpit cheklist completed\n",
      "Completed\n",
      "Decimal\n",
      "Flight Controls\n",
      "Fuel Quantity\n",
      "Fuel Selector\n",
      "Fuel Shutoff Valve\n",
      "Fuel Temperature\n",
      "in\n",
      "locked\n",
      "off\n",
      "On\n",
      "open\n",
      "preflight inspection\n",
      "removed\n",
      "Seats & Belts\n",
      "Shut-off cabin heat\n",
      "sufficient\n",
      "Towbar\n",
      "Weight and balance\n"
     ]
    }
   ],
   "source": [
    "data=get_mfcc(fpaths)\n",
    "boy_data=get_mfcc(boy_fpaths)"
   ]
  },
  {
   "cell_type": "markdown",
   "metadata": {},
   "source": [
    "#### Get Labels"
   ]
  },
  {
   "cell_type": "code",
   "execution_count": 74,
   "metadata": {},
   "outputs": [],
   "source": [
    "def get_labels(labels, label_set):\n",
    "    label_idx_dic={} # dict for storing labels\n",
    "\n",
    "    #Each sample file is one row in data, and has one entry in labels\n",
    "    print('Number of files total:', len(labels))\n",
    "    all_labels = np.zeros(len(labels),dtype=int)\n",
    "    for n, l in enumerate(label_set):\n",
    "        label_idx_dic[n]=l\n",
    "        all_labels[np.array([i for i, _ in enumerate(labels) if _ == l])] = n\n",
    "    print('Labels and label indices', all_labels)\n",
    "    \n",
    "    return label_idx_dic, all_labels"
   ]
  },
  {
   "cell_type": "code",
   "execution_count": 75,
   "metadata": {},
   "outputs": [
    {
     "name": "stdout",
     "output_type": "stream",
     "text": [
      "Number of files total: 7108\n",
      "Labels and label indices [ 0  0  0 ... 30 30 30]\n",
      "Number of files total: 1969\n",
      "Labels and label indices [ 0  0  0 ... 30 30 30]\n"
     ]
    }
   ],
   "source": [
    "_, all_label = get_labels(labels,label_set)\n",
    "label_dic, boy_all_label = get_labels(boy_labels,boy_label_set)"
   ]
  },
  {
   "cell_type": "code",
   "execution_count": 80,
   "metadata": {},
   "outputs": [],
   "source": [
    "# save label dictionary\n",
    "def save_dict_to_file(dic,dataset):\n",
    "    f = open('dict{}.txt'.format(dataset),'w')\n",
    "    f.write(str(dic))\n",
    "    f.close()\n",
    "\n",
    "# load label dictionary\n",
    "def load_dict_from_file(dataset):\n",
    "    f = open('dict{}.txt'.format(dataset),'r')\n",
    "    data=f.read()\n",
    "    f.close()\n",
    "    return eval(data)"
   ]
  },
  {
   "cell_type": "code",
   "execution_count": 82,
   "metadata": {},
   "outputs": [],
   "source": [
    "# save dict\n",
    "save_dict_to_file(label_dic,dataset)\n",
    "\n",
    "# read dict\n",
    "label_idx_dic = load_dict_from_file(dataset)"
   ]
  },
  {
   "cell_type": "code",
   "execution_count": 83,
   "metadata": {},
   "outputs": [
    {
     "name": "stdout",
     "output_type": "stream",
     "text": [
      "{0: '0_zero', 1: '1_one', 2: '2_two', 3: '3_three', 4: '4_four', 5: '5_five', 6: '6_six', 7: '7_seven', 8: '8_eight', 9: '9_nine', 10: 'A_C Documents', 11: 'All switches', 12: 'Alternate air door', 13: 'Battery+Main bus', 14: 'Cabin doors', 15: 'Checked', 16: 'Circuit breakers', 17: 'Cockpit', 18: 'Cockpit cheklist completed', 19: 'Completed', 20: 'Decimal', 21: 'Flight Controls', 22: 'Fuel Quantity', 23: 'Fuel Selector', 24: 'Fuel Shutoff Valve', 25: 'Fuel Temperature', 26: 'On', 27: 'Seats & Belts', 28: 'Shut-off cabin heat', 29: 'Towbar', 30: 'Weight and balance', 31: 'aboard', 32: 'adjusted & locked', 33: 'in', 34: 'locked', 35: 'off', 36: 'open', 37: 'preflight inspection', 38: 'removed', 39: 'sufficient'}\n"
     ]
    }
   ],
   "source": [
    "print(label_idx_dic)"
   ]
  },
  {
   "cell_type": "markdown",
   "metadata": {},
   "source": [
    "#### Pad Zeros to Small Arrays"
   ]
  },
  {
   "cell_type": "code",
   "execution_count": 85,
   "metadata": {},
   "outputs": [],
   "source": [
    "def data_x_y(data,all_labels):\n",
    "    x_data = np.zeros((len(data),2808+1), dtype=float)\n",
    "\n",
    "    for i,_d in enumerate(data):\n",
    "\n",
    "        if (_d.shape[1]>2808):\n",
    "            x_data[i,1:]=_d[0,0:2808]\n",
    "        else :\n",
    "            x_data[i,1:_d.shape[1]+1]=_d\n",
    "\n",
    "        x_data[i,0]=all_labels[i]\n",
    "        \n",
    "    return x_data"
   ]
  },
  {
   "cell_type": "code",
   "execution_count": 87,
   "metadata": {},
   "outputs": [],
   "source": [
    "# save all features data\n",
    "np.savetxt('data{}.csv'.format('girl'), data_x_y(data,all_label), delimiter=',')\n",
    "np.savetxt('data{}.csv'.format('boy'), data_x_y(boy_data,boy_all_label), delimiter=',')"
   ]
  }
 ],
 "metadata": {
  "kernelspec": {
   "display_name": "Python 3",
   "language": "python",
   "name": "python3"
  },
  "language_info": {
   "codemirror_mode": {
    "name": "ipython",
    "version": 3
   },
   "file_extension": ".py",
   "mimetype": "text/x-python",
   "name": "python",
   "nbconvert_exporter": "python",
   "pygments_lexer": "ipython3",
   "version": "3.6.5"
  }
 },
 "nbformat": 4,
 "nbformat_minor": 2
}
