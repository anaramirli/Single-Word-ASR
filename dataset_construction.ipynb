{
 "cells": [
  {
   "cell_type": "code",
   "execution_count": 1,
   "metadata": {},
   "outputs": [],
   "source": [
    "import numpy as np\n",
    "import os\n",
    "from scipy.io import wavfile\n",
    "from python_speech_features import mfcc, logfbank\n",
    "import matplotlib.pyplot as plt\n",
    "import pickle\n",
    "from sklearn.metrics import confusion_matrix\n",
    "from sklearn.preprocessing import StandardScaler\n",
    "from sklearn.neural_network import MLPClassifier\n",
    "from sklearn import preprocessing\n",
    "%matplotlib inline\n",
    "\n",
    "from utils import *"
   ]
  },
  {
   "cell_type": "markdown",
   "metadata": {},
   "source": [
    "#### Get data"
   ]
  },
  {
   "cell_type": "code",
   "execution_count": 2,
   "metadata": {},
   "outputs": [
    {
     "name": "stdout",
     "output_type": "stream",
     "text": [
      "Spoken words: ['0_zero', '1_one', '2_two', '3_three', '4_four', '5_five', '6_six', '7_seven', '8_eight', '9_nine', 'aboard', 'adjusted & locked', 'All switches', 'Alternate air door', 'A_C Documents', 'Battery+Main bus', 'Cabin doors', 'Checked', 'Circuit Breakers', 'Closed', 'Cockpit', 'Cockpit checklist completed', 'Completed', 'decimal', 'Flight Controls', 'Fuel Quantity', 'Fuel Selector', 'Fuel Shutoff Valve', 'Fuel Temperature', 'in', 'locked', 'off', 'On', 'open', 'preflight_inspection', 'removed', 'Seats & Belts', 'Shut-off cabin heat', 'sufficient', 'Towbar', 'Weight and balance']\n"
     ]
    }
   ],
   "source": [
    "fpaths = []\n",
    "labels = []\n",
    "word_spoken = []\n",
    "\n",
    "\n",
    "dataset = '41'\n",
    "input_folder = 'data\\{}'.format(dataset)\n",
    "\n",
    "# pars the input directory that contains audio files\n",
    "# get audio files and their lables\n",
    "\n",
    "for f in os.listdir(input_folder):\n",
    "    for w in os.listdir(input_folder+'\\\\'+ f):\n",
    "        # check wheter files is wav or not\n",
    "        \n",
    "        if (w.find('wav')!=-1):\n",
    "            fpaths.append(input_folder+'\\\\'+f+'\\\\'+w)\n",
    "            labels.append(f)\n",
    "            if f not in word_spoken:\n",
    "                word_spoken.append(f)\n",
    "print(\"Spoken words: \"+ str(word_spoken))"
   ]
  },
  {
   "cell_type": "code",
   "execution_count": 3,
   "metadata": {},
   "outputs": [
    {
     "name": "stdout",
     "output_type": "stream",
     "text": [
      "21433\n"
     ]
    }
   ],
   "source": [
    "# size of dataset\n",
    "print(len(labels))"
   ]
  },
  {
   "cell_type": "markdown",
   "metadata": {},
   "source": [
    "## Extracting frequeny domain features\n",
    "\n",
    "At the second stage we convet a signal into the freqency domain. In monst modern speech recognitoon freqeency-domain features are used as key component. In case of multispeakers MFFC feature extraction works best. After convert a signal into a freq domain, it's requered to convert it into a useable form. **Mel Frequency Cepstral Coefficients (MFCC)** is a good way to do that. *MFCC* takes the power spectrum of a signal and then uses a combination of filter banks and disrete cosinetransform to extract pattern of phones or features.\n",
    "\n",
    "After extracting **MFFC** features we exract data into single data matrix, and a label vector with the correct label for eac data file is ceated. "
   ]
  },
  {
   "cell_type": "code",
   "execution_count": 4,
   "metadata": {},
   "outputs": [
    {
     "name": "stdout",
     "output_type": "stream",
     "text": [
      "0_zero\n",
      "1_one\n",
      "2_two\n",
      "3_three\n",
      "4_four\n",
      "5_five\n",
      "6_six\n",
      "7_seven\n",
      "8_eight\n",
      "9_nine\n",
      "aboard\n",
      "adjusted & locked\n",
      "All switches\n",
      "Alternate air door\n",
      "A_C Documents\n",
      "Battery+Main bus\n",
      "Cabin doors\n",
      "Checked\n",
      "Circuit Breakers\n",
      "Closed\n",
      "Cockpit\n",
      "Cockpit checklist completed\n",
      "Completed\n",
      "decimal\n",
      "Flight Controls\n",
      "Fuel Quantity\n",
      "Fuel Selector\n",
      "Fuel Shutoff Valve\n",
      "Fuel Temperature\n",
      "in\n",
      "locked\n",
      "off\n",
      "On\n",
      "open\n",
      "preflight_inspection\n",
      "removed\n",
      "Seats & Belts\n",
      "Shut-off cabin heat\n",
      "sufficient\n",
      "Towbar\n",
      "Weight and balance\n"
     ]
    }
   ],
   "source": [
    "from scipy.io import wavfile\n",
    "\n",
    "data = []\n",
    "\n",
    "mfcc_max_length = 0\n",
    "\n",
    "# first file desitination name and index\n",
    "file_name = ''\n",
    "word_spoken_index = 0\n",
    "\n",
    "for n,file in enumerate(fpaths):\n",
    "    \n",
    "    # show current desintation \n",
    "    if (file.find(file_name)<=0):\n",
    "        file_name=word_spoken[word_spoken_index]\n",
    "        print(word_spoken[word_spoken_index])\n",
    "        word_spoken_index+=1\n",
    "\n",
    "    # read file \n",
    "    sampling_freq, audio = wavfile.read(file)\n",
    "    # Extract MFCC features\n",
    "    mfcc_features = mfcc(audio, sampling_freq)\n",
    "\n",
    "    \n",
    "    mfcc_len=mfcc_features.shape[0]*mfcc_features.shape[1]\n",
    "    # get length of largets feature array\n",
    "    if mfcc_len>mfcc_max_length:    \n",
    "        mfcc_max_length=mfcc_len\n",
    "     \n",
    "    # flat data into 2D array\n",
    "    mfcc_features=np.resize(mfcc_features,(1,mfcc_len))\n",
    "    \n",
    "    data.insert(n,mfcc_features)"
   ]
  },
  {
   "cell_type": "markdown",
   "metadata": {},
   "source": [
    "#### Get Labels"
   ]
  },
  {
   "cell_type": "code",
   "execution_count": 5,
   "metadata": {},
   "outputs": [
    {
     "name": "stdout",
     "output_type": "stream",
     "text": [
      "Number of files total: 21433\n",
      "Labels and label indices [33 33 33 ...  3  3  3]\n"
     ]
    }
   ],
   "source": [
    "label_idx_dic={} # dict for storing labels\n",
    "\n",
    "#Each sample file is one row in data, and has one entry in labels\n",
    "print('Number of files total:', len(data))\n",
    "all_labels = np.zeros(len(data),dtype=int)\n",
    "for n, l in enumerate(set(labels)):\n",
    "    label_idx_dic[n]=l\n",
    "    all_labels[np.array([i for i, _ in enumerate(labels) if _ == l])] = n\n",
    "print('Labels and label indices', all_labels)"
   ]
  },
  {
   "cell_type": "code",
   "execution_count": 16,
   "metadata": {},
   "outputs": [],
   "source": [
    "# save label dictionary\n",
    "def save_dict_to_file(dic):\n",
    "    f = open('dict.txt','w')\n",
    "    f.write(str(dic))\n",
    "    f.close()\n",
    "\n",
    "# load label dictionary\n",
    "def load_dict_from_file():\n",
    "    f = open('dict.txt','r')\n",
    "    data=f.read()\n",
    "    f.close()\n",
    "    return eval(data)\n",
    "\n",
    "# save dict\n",
    "save_dict_to_file(label_idx_dic)\n",
    "\n",
    "# read dict\n",
    "label_idx_dic = load_dict_from_file()"
   ]
  },
  {
   "cell_type": "code",
   "execution_count": 17,
   "metadata": {},
   "outputs": [
    {
     "data": {
      "text/plain": [
       "{0: 'decimal',\n",
       " 1: 'Seats & Belts',\n",
       " 2: '8_eight',\n",
       " 3: 'locked',\n",
       " 4: 'Cabin doors',\n",
       " 5: '6_six',\n",
       " 6: 'Shut-off cabin heat',\n",
       " 7: 'Closed',\n",
       " 8: 'Checked',\n",
       " 9: '0_zero',\n",
       " 10: 'in',\n",
       " 11: 'Completed',\n",
       " 12: '2_two',\n",
       " 13: '3_three',\n",
       " 14: '5_five',\n",
       " 15: '7_seven',\n",
       " 16: 'Fuel Shutoff Valve',\n",
       " 17: 'Fuel Temperature',\n",
       " 18: 'preflight_inspection',\n",
       " 19: '1_one',\n",
       " 20: 'sufficient',\n",
       " 21: 'off',\n",
       " 22: 'Cockpit',\n",
       " 23: 'On',\n",
       " 24: '4_four',\n",
       " 25: 'Battery+Main bus',\n",
       " 26: 'Weight and balance',\n",
       " 27: 'Flight Controls',\n",
       " 28: '9_nine',\n",
       " 29: 'Fuel Quantity',\n",
       " 30: 'Fuel Selector',\n",
       " 31: 'Cockpit checklist completed',\n",
       " 32: 'aboard',\n",
       " 33: 'open',\n",
       " 34: 'removed',\n",
       " 35: 'adjusted & locked',\n",
       " 36: 'Circuit Breakers',\n",
       " 37: 'All switches',\n",
       " 38: 'Alternate air door',\n",
       " 39: 'A_C Documents',\n",
       " 40: 'Towbar'}"
      ]
     },
     "execution_count": 17,
     "metadata": {},
     "output_type": "execute_result"
    }
   ],
   "source": [
    "print(label_idx_dic)"
   ]
  },
  {
   "cell_type": "markdown",
   "metadata": {},
   "source": [
    "#### Pad Zeros to Small Arrays"
   ]
  },
  {
   "cell_type": "code",
   "execution_count": 9,
   "metadata": {},
   "outputs": [],
   "source": [
    "x_data = np.zeros((len(data),mfcc_max_length+1), dtype=float)\n",
    "\n",
    "for i,_d in enumerate(data):\n",
    "    x_data[i,1:_d.shape[1]+1]=_d\n",
    "    x_data[i,0]=all_labels[i]"
   ]
  },
  {
   "cell_type": "code",
   "execution_count": 11,
   "metadata": {},
   "outputs": [],
   "source": [
    "# save all features data\n",
    "np.savetxt('data.csv', x_data, delimiter=',')"
   ]
  }
 ],
 "metadata": {
  "kernelspec": {
   "display_name": "Python 3",
   "language": "python",
   "name": "python3"
  },
  "language_info": {
   "codemirror_mode": {
    "name": "ipython",
    "version": 3
   },
   "file_extension": ".py",
   "mimetype": "text/x-python",
   "name": "python",
   "nbconvert_exporter": "python",
   "pygments_lexer": "ipython3",
   "version": "3.6.5"
  }
 },
 "nbformat": 4,
 "nbformat_minor": 2
}
