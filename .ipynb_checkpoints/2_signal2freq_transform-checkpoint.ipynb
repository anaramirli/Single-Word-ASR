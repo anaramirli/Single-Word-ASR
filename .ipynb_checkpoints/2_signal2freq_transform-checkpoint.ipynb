{
 "cells": [
  {
   "cell_type": "markdown",
   "metadata": {},
   "source": [
    "## Transforming signals into the frequency domain\n",
    "\n",
    "Audio signals consist of sinus waves (*sinusoids*) of various frequencies, amplitudes, and phases. The information or pattern we're loking for is hidden in the frequency content of an audio signal. Actually, audio signal is characterized by its sinusoids.\n",
    "\n",
    "We'll use **fourier transforms** to transform our signals into the frequency domain. \n",
    "\n",
    "The *Fourier Transform* is a method to break a waveform (periodic functions) into their sinusoidal components. The *Fourier Transform* shows that any waveform can be re-written as the sum of sinusodial functions.\n",
    "\n",
    "$$ G\\left ( f \\right ) = F\\left \\{ g \\left ( t \\right ) \\right \\} = \\int_{-\\infty }^{\\infty} g \\left ( t \\right ) e^{-2\\pi ift} dt $$\n",
    "\n",
    "The *Fourier Transform* therefore gives us a unique way of viewing any function - as the sum of simple sinusoids.\n"
   ]
  },
  {
   "cell_type": "code",
   "execution_count": 2,
   "metadata": {},
   "outputs": [],
   "source": [
    "import numpy as np\n",
    "from scipy.io import wavfile\n",
    "import matplotlib.pyplot as plt"
   ]
  },
  {
   "cell_type": "code",
   "execution_count": 4,
   "metadata": {},
   "outputs": [],
   "source": [
    "# read the input file / audio array is numpy aray\n",
    "sampling_freq, audio = wavfile.read('input_freq.wav')"
   ]
  },
  {
   "cell_type": "code",
   "execution_count": 5,
   "metadata": {},
   "outputs": [],
   "source": [
    "# normalize the values\n",
    "audio = audio / (2.**15)"
   ]
  },
  {
   "cell_type": "code",
   "execution_count": 6,
   "metadata": {},
   "outputs": [],
   "source": [
    "# extract length\n",
    "len_audio = len(audio)"
   ]
  },
  {
   "cell_type": "code",
   "execution_count": null,
   "metadata": {},
   "outputs": [],
   "source": [
    "# apply Fourier transfrom"
   ]
  }
 ],
 "metadata": {
  "kernelspec": {
   "display_name": "Python 3",
   "language": "python",
   "name": "python3"
  },
  "language_info": {
   "codemirror_mode": {
    "name": "ipython",
    "version": 3
   },
   "file_extension": ".py",
   "mimetype": "text/x-python",
   "name": "python",
   "nbconvert_exporter": "python",
   "pygments_lexer": "ipython3",
   "version": "3.6.5"
  }
 },
 "nbformat": 4,
 "nbformat_minor": 2
}
