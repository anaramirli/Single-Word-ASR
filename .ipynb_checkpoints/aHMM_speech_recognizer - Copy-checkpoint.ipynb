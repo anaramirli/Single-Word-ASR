{
 "cells": [
  {
   "cell_type": "markdown",
   "metadata": {},
   "source": [
    "## Building Hidden Markov Models (*HMMs*) for speech recognition\n",
    "\n",
    "We'll use *Gaussian HMMs* to model our data. *HMMs* are great tool for modeling time series data. As an audio signa is a time series signal, so the *HMMs* fit our needs. \n",
    "\n",
    "*HMMs* are popular because they can be trained automatically and are simple and computationally feasible to use. A *HMM* represent probability distrubutions over sequencs of observations.\n",
    "\n",
    "In this document we use **hmmlearn** package built with Sphinx and **python_speech features** built for MFCC.\n"
   ]
  },
  {
   "cell_type": "code",
   "execution_count": 132,
   "metadata": {},
   "outputs": [],
   "source": [
    "import os\n",
    "import argparse \n",
    "\n",
    "import numpy as np\n",
    "from scipy.io import wavfile \n",
    "from hmmlearn import hmm\n",
    "from python_speech_features import mfcc"
   ]
  },
  {
   "cell_type": "code",
   "execution_count": 1,
   "metadata": {},
   "outputs": [
    {
     "ename": "SyntaxError",
     "evalue": "Missing parentheses in call to 'print'. Did you mean print('X.shape =', X.shape)? (<ipython-input-1-4c376b001d7e>, line 77)",
     "output_type": "error",
     "traceback": [
      "\u001b[1;36m  File \u001b[1;32m\"<ipython-input-1-4c376b001d7e>\"\u001b[1;36m, line \u001b[1;32m77\u001b[0m\n\u001b[1;33m    print 'X.shape =', X.shape\u001b[0m\n\u001b[1;37m                    ^\u001b[0m\n\u001b[1;31mSyntaxError\u001b[0m\u001b[1;31m:\u001b[0m Missing parentheses in call to 'print'. Did you mean print('X.shape =', X.shape)?\n"
     ]
    }
   ],
   "source": [
    "# Class to handle all HMM related processing\n",
    "class HMMTrainer(object):\n",
    "    def __init__(self, model_name='GaussianHMM', n_components=4, cov_type='diag', n_iter=1000):\n",
    "        self.model_name = model_name\n",
    "        self.n_components = n_components\n",
    "        self.cov_type = cov_type\n",
    "        self.n_iter = n_iter\n",
    "        self.models = []\n",
    "\n",
    "        if self.model_name == 'GaussianHMM':\n",
    "            self.model = hmm.GaussianHMM(n_components=self.n_components, \n",
    "                    covariance_type=self.cov_type, n_iter=self.n_iter)\n",
    "        else:\n",
    "            raise TypeError('Invalid model type')\n",
    "\n",
    "    # X is a 2D numpy array where each row is 13D\n",
    "    def train(self, X):\n",
    "        np.seterr(all='ignore')\n",
    "        self.models.append(self.model.fit(X))\n",
    "\n",
    "    # Run the model on input data\n",
    "    def get_score(self, input_data):\n",
    "        return self.model.score(input_data)\n",
    "    \n",
    "\n",
    "if __name__=='__main__':\n",
    "# init the variables of all HMM models\n",
    "    hmm_models = []\n",
    "    \n",
    "    # define train folder\n",
    "    dataset = 'train'\n",
    "    input_folder = 'data\\{}'.format(dataset)\n",
    "    \n",
    "    \n",
    "    # get path of input files\n",
    "    try:\n",
    "        audiofiles = os.listdir(input_folder)\n",
    "    except FileNotFoundError:\n",
    "        assert False, \"Folder not found\"\n",
    "\n",
    "    # pars the input directory that contains audio files\n",
    "    for dirname in audiofiles:\n",
    "        # get the name of the subfolder\n",
    "        subfolder = os.path.join(input_folder, dirname)\n",
    "        \n",
    "        if not os.path.isdir(subfolder):\n",
    "            continue\n",
    "        \n",
    "        print(subfolder)\n",
    "        \n",
    "        \n",
    "        # extract the label\n",
    "        label = subfolder[subfolder.rfind('\\\\')+1:]\n",
    "        \n",
    "        # initialize intput variables and labels\n",
    "        X = np.array([])\n",
    "        y_words = []\n",
    "        \n",
    "        # iterate through the audio files\n",
    "        for filename in [x for x in os.listdir(subfolder) if x.endswith('.wav')]:\n",
    "            # Read the input file\n",
    "            filepath = os.path.join(subfolder, filename)\n",
    "            sampling_freq, audio = wavfile.read(filepath)\n",
    "            \n",
    "            # Extract MFCC features\n",
    "            mfcc_features = mfcc(audio, sampling_freq)\n",
    "\n",
    "            # Append to the variable X\n",
    "            if len(X) == 0:\n",
    "                X = mfcc_features\n",
    "            else:\n",
    "                X = np.append(X, mfcc_features, axis=0)\n",
    "            \n",
    "            # Append the label\n",
    "            y_words.append(label)\n",
    "\n",
    "        print 'X.shape =', X.shape\n",
    "        # Train and save HMM model\n",
    "        hmm_trainer = HMMTrainer()\n",
    "        hmm_trainer.train(X)\n",
    "        hmm_models.append((hmm_trainer, label))\n",
    "        hmm_trainer = None\n"
   ]
  },
  {
   "cell_type": "markdown",
   "metadata": {},
   "source": [
    "We need train data to build our speech recognizer. We will use the database available at [here](https://code.google.com/archive/p/hmm-speech-recognition/downloads). This data set contains seven different words, where each word has 15 audio files associated with it. We'll build an *HMM* model for each class by training our model on given dataset. Then after build model, given new input file, we need to run all the models on this file and pick the one with the best score. "
   ]
  },
  {
   "cell_type": "code",
   "execution_count": 134,
   "metadata": {},
   "outputs": [
    {
     "name": "stdout",
     "output_type": "stream",
     "text": [
      "data\\train\\apple\n",
      "data\\train\\banana\n",
      "data\\train\\kiwi\n",
      "data\\train\\lime\n",
      "data\\train\\orange\n",
      "data\\train\\peach\n",
      "data\\train\\pineapple\n"
     ]
    }
   ],
   "source": [
    "if __name__ == '__main__':\n",
    "\n",
    "    # init the variables of all HMM models\n",
    "    hmm_models = []\n",
    "    \n",
    "    # define train folder\n",
    "    dataset = 'train'\n",
    "    input_folder = 'data\\{}'.format(dataset)\n",
    "    \n",
    "    \n",
    "    # get path of input files\n",
    "    try:\n",
    "        audiofiles = os.listdir(input_folder)\n",
    "    except FileNotFoundError:\n",
    "        assert False, \"Folder not found\"\n",
    "\n",
    "    # pars the input directory that contains audio files\n",
    "    for dirname in audiofiles:\n",
    "        # get the name of the subfolder\n",
    "        subfolder = os.path.join(input_folder, dirname)\n",
    "        \n",
    "        if not os.path.isdir(subfolder):\n",
    "            continue\n",
    "        \n",
    "        print(subfolder)\n",
    "        \n",
    "        \n",
    "        # extract the label\n",
    "        label = subfolder[subfolder.rfind('\\\\')+1:]\n",
    "        \n",
    "        # initialize intput variables and labels\n",
    "        X = np.array([])\n",
    "        y_words = []\n",
    "        \n",
    "        # iterate through the audio files\n",
    "        for filename in [x for x in os.listdir(subfolder) if x.endswith('.wav')]:\n",
    "            # read the input file\n",
    "            filepath = os.path.join(subfolder, filename)\n",
    "            sampling_freq, audio = wavfile.read(filepath)\n",
    "            \n",
    "            # extarct MFFC features\n",
    "            mfcc_features = mfcc(audio, sampling_freq)\n",
    "            \n",
    "            # append to the variable X\n",
    "            \n",
    "            if len(X) == 0:\n",
    "                X = mfcc_features\n",
    "            else:\n",
    "                X = np.append(X, mfcc_features, axis=0)\n",
    "                \n",
    "            # append the label\n",
    "            y_words.append(label)"
   ]
  },
  {
   "cell_type": "markdown",
   "metadata": {},
   "source": [
    "After extracted features from all the files, train and save the HMM model.\n",
    "As HMM is a generative model for unsupervised learning, we don't need labels\n",
    "to build HMM modes for each class. We explitly assume that seperate HMM models\n",
    "will be built for each class"
   ]
  },
  {
   "cell_type": "code",
   "execution_count": 135,
   "metadata": {},
   "outputs": [
    {
     "name": "stderr",
     "output_type": "stream",
     "text": [
      "C:\\Users\\Anar\\Anaconda3\\lib\\site-packages\\sklearn\\utils\\deprecation.py:77: DeprecationWarning: Function distribute_covar_matrix_to_match_covariance_type is deprecated; The function distribute_covar_matrix_to_match_covariance_typeis deprecated in 0.18 and will be removed in 0.20.\n",
      "  warnings.warn(msg, category=DeprecationWarning)\n"
     ]
    },
    {
     "ename": "TypeError",
     "evalue": "append() takes exactly one argument (2 given)",
     "output_type": "error",
     "traceback": [
      "\u001b[1;31m---------------------------------------------------------------------------\u001b[0m",
      "\u001b[1;31mTypeError\u001b[0m                                 Traceback (most recent call last)",
      "\u001b[1;32m<ipython-input-135-17e2e19a3a86>\u001b[0m in \u001b[0;36m<module>\u001b[1;34m()\u001b[0m\n\u001b[0;32m      2\u001b[0m \u001b[0mhmm_trainer\u001b[0m \u001b[1;33m=\u001b[0m \u001b[0mHMMTrainer\u001b[0m\u001b[1;33m(\u001b[0m\u001b[1;33m)\u001b[0m\u001b[1;33m\u001b[0m\u001b[0m\n\u001b[0;32m      3\u001b[0m \u001b[0mhmm_trainer\u001b[0m\u001b[1;33m.\u001b[0m\u001b[0mtrain\u001b[0m\u001b[1;33m(\u001b[0m\u001b[0mX\u001b[0m\u001b[1;33m)\u001b[0m\u001b[1;33m\u001b[0m\u001b[0m\n\u001b[1;32m----> 4\u001b[1;33m \u001b[0mhmm_models\u001b[0m\u001b[1;33m.\u001b[0m\u001b[0mappend\u001b[0m\u001b[1;33m(\u001b[0m\u001b[0mhmm_trainer\u001b[0m\u001b[1;33m,\u001b[0m \u001b[0mlabel\u001b[0m\u001b[1;33m)\u001b[0m\u001b[1;33m\u001b[0m\u001b[0m\n\u001b[0m\u001b[0;32m      5\u001b[0m \u001b[0mhmm_trainer\u001b[0m \u001b[1;33m=\u001b[0m \u001b[1;32mNone\u001b[0m\u001b[1;33m\u001b[0m\u001b[0m\n",
      "\u001b[1;31mTypeError\u001b[0m: append() takes exactly one argument (2 given)"
     ]
    }
   ],
   "source": [
    "        # Train and save HMM model\n",
    "        hmm_trainer = HMMTrainer()\n",
    "        hmm_trainer.train(X)\n",
    "        hmm_models.append(hmm_trainer, label)\n",
    "        hmm_trainer = None"
   ]
  },
  {
   "cell_type": "code",
   "execution_count": 97,
   "metadata": {},
   "outputs": [],
   "source": [
    "    # define test folder\n",
    "    dataset = 'test'\n",
    "    input_folder = 'data\\{}'.format(dataset)\n",
    "    \n",
    "    # test folder\n",
    "    test_files = []\n",
    "\n",
    "    # get path of test files\n",
    "    try:\n",
    "        audiofiles = os.listdir(input_folder)\n",
    "    except FileNotFoundError:\n",
    "        assert False, \"Folder not found\"\n",
    "\n",
    "    # pars the input directory that contains audio files\n",
    "    for dirname in audiofiles:\n",
    "\n",
    "        # get the name of the subfolder\n",
    "        subfolder = os.path.join(input_folder, dirname)\n",
    "\n",
    "        if not os.path.isdir(subfolder):\n",
    "                continue\n",
    "\n",
    "        # iterate through the audio files\n",
    "        for filename in [x for x in os.listdir(subfolder) if x.endswith('.wav')]:\n",
    "            # read the input file\n",
    "\n",
    "            filepath = os.path.join(subfolder, filename)\n",
    "            test_files.append(filepath)      "
   ]
  },
  {
   "cell_type": "code",
   "execution_count": 98,
   "metadata": {},
   "outputs": [
    {
     "data": {
      "text/plain": [
       "['data\\\\test\\\\apple\\\\apple15.wav',\n",
       " 'data\\\\test\\\\banana\\\\banana15.wav',\n",
       " 'data\\\\test\\\\kiwi\\\\kiwi15.wav',\n",
       " 'data\\\\test\\\\lime\\\\lime15.wav',\n",
       " 'data\\\\test\\\\orange\\\\orange15.wav',\n",
       " 'data\\\\test\\\\peach\\\\peach15.wav',\n",
       " 'data\\\\test\\\\pineapple\\\\pineapple15.wav']"
      ]
     },
     "execution_count": 98,
     "metadata": {},
     "output_type": "execute_result"
    }
   ],
   "source": [
    "    test_files"
   ]
  },
  {
   "cell_type": "code",
   "execution_count": 115,
   "metadata": {},
   "outputs": [
    {
     "name": "stdout",
     "output_type": "stream",
     "text": [
      "\n",
      "True: apple\n",
      "Predicted: None\n",
      "\n",
      "True: banana\n",
      "Predicted: None\n",
      "\n",
      "True: kiwi\n",
      "Predicted: None\n",
      "\n",
      "True: lime\n",
      "Predicted: None\n",
      "\n",
      "True: orange\n",
      "Predicted: None\n",
      "\n",
      "True: peach\n",
      "Predicted: None\n",
      "\n",
      "True: pineapple\n",
      "Predicted: None\n"
     ]
    }
   ],
   "source": [
    "    # classify input data\n",
    "    for test_file in test_files:\n",
    "        sampling_freq, audio = wavfile.read(test_file)\n",
    "        \n",
    "        #extract MFCC features\n",
    "        mfcc_features = mfcc(audio, sampling_freq)\n",
    "        \n",
    "        # define variables\n",
    "        max_score = None\n",
    "        output_label = None\n",
    "        \n",
    "        # iterate thorugh all HMM models and pick the one with best score\n",
    "        for item in hmm_models:\n",
    "            hmm_model, label = item\n",
    "            \n",
    "            score = hmm_model.get_score(mfcc_features)\n",
    "            if score > max_score:\n",
    "                max_score = score\n",
    "                output_label = label\n",
    "                # print the output\n",
    "                \n",
    "        print (\"\\nTrue: \" + test_file[test_file.find('\\\\')+6:test_file.rfind('\\\\')])\n",
    "        print (\"Predicted: \" + str(output_label))"
   ]
  },
  {
   "cell_type": "code",
   "execution_count": null,
   "metadata": {},
   "outputs": [],
   "source": []
  }
 ],
 "metadata": {
  "kernelspec": {
   "display_name": "Python 3",
   "language": "python",
   "name": "python3"
  },
  "language_info": {
   "codemirror_mode": {
    "name": "ipython",
    "version": 3
   },
   "file_extension": ".py",
   "mimetype": "text/x-python",
   "name": "python",
   "nbconvert_exporter": "python",
   "pygments_lexer": "ipython3",
   "version": "3.6.5"
  }
 },
 "nbformat": 4,
 "nbformat_minor": 2
}
